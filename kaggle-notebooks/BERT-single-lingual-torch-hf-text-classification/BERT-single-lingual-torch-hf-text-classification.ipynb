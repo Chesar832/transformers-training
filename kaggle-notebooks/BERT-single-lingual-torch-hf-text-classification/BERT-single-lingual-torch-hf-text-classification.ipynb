{
 "cells": [
  {
   "cell_type": "markdown",
   "id": "dbb4f4d4",
   "metadata": {
    "papermill": {
     "duration": 0.032519,
     "end_time": "2024-10-28T14:49:15.104512",
     "exception": false,
     "start_time": "2024-10-28T14:49:15.071993",
     "status": "completed"
    },
    "tags": []
   },
   "source": [
    "# Pre settings"
   ]
  },
  {
   "cell_type": "code",
   "execution_count": 1,
   "id": "8ec9c142",
   "metadata": {
    "execution": {
     "iopub.execute_input": "2024-10-28T14:49:15.167273Z",
     "iopub.status.busy": "2024-10-28T14:49:15.166945Z",
     "iopub.status.idle": "2024-10-28T14:49:16.160044Z",
     "shell.execute_reply": "2024-10-28T14:49:16.158952Z"
    },
    "papermill": {
     "duration": 1.026923,
     "end_time": "2024-10-28T14:49:16.162298",
     "exception": false,
     "start_time": "2024-10-28T14:49:15.135375",
     "status": "completed"
    },
    "tags": []
   },
   "outputs": [
    {
     "name": "stdout",
     "output_type": "stream",
     "text": [
      "../input/google-play-reviews/reviews.csv\r\n"
     ]
    }
   ],
   "source": [
    "!ls ../input/google-play-reviews/reviews.csv -a"
   ]
  },
  {
   "cell_type": "markdown",
   "id": "d9903dea",
   "metadata": {
    "id": "K7fNpF96XBrP",
    "papermill": {
     "duration": 0.030777,
     "end_time": "2024-10-28T14:49:16.224809",
     "exception": false,
     "start_time": "2024-10-28T14:49:16.194032",
     "status": "completed"
    },
    "tags": []
   },
   "source": [
    "# Setup"
   ]
  },
  {
   "cell_type": "code",
   "execution_count": 2,
   "id": "27f6dab3",
   "metadata": {
    "execution": {
     "iopub.execute_input": "2024-10-28T14:49:16.287950Z",
     "iopub.status.busy": "2024-10-28T14:49:16.287589Z",
     "iopub.status.idle": "2024-10-28T14:49:21.820061Z",
     "shell.execute_reply": "2024-10-28T14:49:21.818979Z"
    },
    "executionInfo": {
     "elapsed": 25094,
     "status": "ok",
     "timestamp": 1730120202573,
     "user": {
      "displayName": "César Chalco",
      "userId": "16579770990679984007"
     },
     "user_tz": 300
    },
    "id": "-74nJKytXBrS",
    "outputId": "d16e3c24-c2f5-449b-bf85-8f65149ab89d",
    "papermill": {
     "duration": 5.566746,
     "end_time": "2024-10-28T14:49:21.822266",
     "exception": false,
     "start_time": "2024-10-28T14:49:16.255520",
     "status": "completed"
    },
    "tags": []
   },
   "outputs": [
    {
     "name": "stdout",
     "output_type": "stream",
     "text": [
      "cuda:0\n"
     ]
    }
   ],
   "source": [
    "import torch\n",
    "from torch.utils.data import Dataset, DataLoader\n",
    "import torch.nn.functional as F\n",
    "from torch import nn\n",
    "\n",
    "import numpy as np\n",
    "import pandas as pd\n",
    "import seaborn as sns\n",
    "from pylab import rcParams\n",
    "\n",
    "import matplotlib.pyplot as plt\n",
    "from matplotlib import rc\n",
    "\n",
    "from sklearn.model_selection import train_test_split\n",
    "from sklearn.metrics import confusion_matrix, classification_report\n",
    "\n",
    "from collections import defaultdict\n",
    "from textwrap import wrap\n",
    "\n",
    "%matplotlib inline\n",
    "%config InlineBackend.figure_format='retina'\n",
    "\n",
    "sns.set(style='whitegrid', palette='muted', font_scale=1.2)\n",
    "sns.set_palette(sns.color_palette(\"Paired\"))\n",
    "\n",
    "rcParams['figure.figsize'] = 12,8\n",
    "RANDOM_SEED = 42\n",
    "np.random.seed(RANDOM_SEED)\n",
    "torch.manual_seed(RANDOM_SEED)\n",
    "device = torch.device(\"cuda:0\" if torch.cuda.is_available() else \"cpu\")\n",
    "\n",
    "print(device)"
   ]
  },
  {
   "cell_type": "markdown",
   "id": "32803251",
   "metadata": {
    "id": "hxuv0LzCXBrT",
    "papermill": {
     "duration": 0.030661,
     "end_time": "2024-10-28T14:49:21.884284",
     "exception": false,
     "start_time": "2024-10-28T14:49:21.853623",
     "status": "completed"
    },
    "tags": []
   },
   "source": [
    "# Read Dataset"
   ]
  },
  {
   "cell_type": "code",
   "execution_count": 3,
   "id": "c16787f9",
   "metadata": {
    "execution": {
     "iopub.execute_input": "2024-10-28T14:49:21.947614Z",
     "iopub.status.busy": "2024-10-28T14:49:21.947204Z",
     "iopub.status.idle": "2024-10-28T14:49:21.951312Z",
     "shell.execute_reply": "2024-10-28T14:49:21.950490Z"
    },
    "papermill": {
     "duration": 0.038059,
     "end_time": "2024-10-28T14:49:21.953242",
     "exception": false,
     "start_time": "2024-10-28T14:49:21.915183",
     "status": "completed"
    },
    "tags": []
   },
   "outputs": [],
   "source": [
    "DATA_PATH = \"/kaggle/input/google-play-reviews/reviews.csv\""
   ]
  },
  {
   "cell_type": "code",
   "execution_count": 4,
   "id": "d042747d",
   "metadata": {
    "execution": {
     "iopub.execute_input": "2024-10-28T14:49:22.016929Z",
     "iopub.status.busy": "2024-10-28T14:49:22.016576Z",
     "iopub.status.idle": "2024-10-28T14:49:22.298981Z",
     "shell.execute_reply": "2024-10-28T14:49:22.298191Z"
    },
    "executionInfo": {
     "elapsed": 713,
     "status": "ok",
     "timestamp": 1730120203282,
     "user": {
      "displayName": "César Chalco",
      "userId": "16579770990679984007"
     },
     "user_tz": 300
    },
    "id": "rkWjh2ZyXBrU",
    "papermill": {
     "duration": 0.316936,
     "end_time": "2024-10-28T14:49:22.301345",
     "exception": false,
     "start_time": "2024-10-28T14:49:21.984409",
     "status": "completed"
    },
    "tags": []
   },
   "outputs": [],
   "source": [
    "df = pd.read_csv(DATA_PATH)"
   ]
  },
  {
   "cell_type": "code",
   "execution_count": 5,
   "id": "8d0844be",
   "metadata": {
    "execution": {
     "iopub.execute_input": "2024-10-28T14:49:22.366382Z",
     "iopub.status.busy": "2024-10-28T14:49:22.366031Z",
     "iopub.status.idle": "2024-10-28T14:49:22.385939Z",
     "shell.execute_reply": "2024-10-28T14:49:22.385079Z"
    },
    "executionInfo": {
     "elapsed": 343,
     "status": "ok",
     "timestamp": 1730120203622,
     "user": {
      "displayName": "César Chalco",
      "userId": "16579770990679984007"
     },
     "user_tz": 300
    },
    "id": "4i5Zcag0XBrU",
    "outputId": "f48cc98e-18fe-4f10-bb9d-eb03316116f2",
    "papermill": {
     "duration": 0.053886,
     "end_time": "2024-10-28T14:49:22.387799",
     "exception": false,
     "start_time": "2024-10-28T14:49:22.333913",
     "status": "completed"
    },
    "tags": []
   },
   "outputs": [
    {
     "data": {
      "text/html": [
       "<div>\n",
       "<style scoped>\n",
       "    .dataframe tbody tr th:only-of-type {\n",
       "        vertical-align: middle;\n",
       "    }\n",
       "\n",
       "    .dataframe tbody tr th {\n",
       "        vertical-align: top;\n",
       "    }\n",
       "\n",
       "    .dataframe thead th {\n",
       "        text-align: right;\n",
       "    }\n",
       "</style>\n",
       "<table border=\"1\" class=\"dataframe\">\n",
       "  <thead>\n",
       "    <tr style=\"text-align: right;\">\n",
       "      <th></th>\n",
       "      <th>userName</th>\n",
       "      <th>userImage</th>\n",
       "      <th>content</th>\n",
       "      <th>score</th>\n",
       "      <th>thumbsUpCount</th>\n",
       "      <th>reviewCreatedVersion</th>\n",
       "      <th>at</th>\n",
       "      <th>replyContent</th>\n",
       "      <th>repliedAt</th>\n",
       "      <th>sortOrder</th>\n",
       "      <th>appId</th>\n",
       "    </tr>\n",
       "  </thead>\n",
       "  <tbody>\n",
       "    <tr>\n",
       "      <th>0</th>\n",
       "      <td>Andrew Thomas</td>\n",
       "      <td>https://lh3.googleusercontent.com/a-/AOh14GiHd...</td>\n",
       "      <td>Update: After getting a response from the deve...</td>\n",
       "      <td>1</td>\n",
       "      <td>21</td>\n",
       "      <td>4.17.0.3</td>\n",
       "      <td>2020-04-05 22:25:57</td>\n",
       "      <td>According to our TOS, and the term you have ag...</td>\n",
       "      <td>2020-04-05 15:10:24</td>\n",
       "      <td>most_relevant</td>\n",
       "      <td>com.anydo</td>\n",
       "    </tr>\n",
       "    <tr>\n",
       "      <th>1</th>\n",
       "      <td>Craig Haines</td>\n",
       "      <td>https://lh3.googleusercontent.com/-hoe0kwSJgPQ...</td>\n",
       "      <td>Used it for a fair amount of time without any ...</td>\n",
       "      <td>1</td>\n",
       "      <td>11</td>\n",
       "      <td>4.17.0.3</td>\n",
       "      <td>2020-04-04 13:40:01</td>\n",
       "      <td>It sounds like you logged in with a different ...</td>\n",
       "      <td>2020-04-05 15:11:35</td>\n",
       "      <td>most_relevant</td>\n",
       "      <td>com.anydo</td>\n",
       "    </tr>\n",
       "  </tbody>\n",
       "</table>\n",
       "</div>"
      ],
      "text/plain": [
       "        userName                                          userImage  \\\n",
       "0  Andrew Thomas  https://lh3.googleusercontent.com/a-/AOh14GiHd...   \n",
       "1   Craig Haines  https://lh3.googleusercontent.com/-hoe0kwSJgPQ...   \n",
       "\n",
       "                                             content  score  thumbsUpCount  \\\n",
       "0  Update: After getting a response from the deve...      1             21   \n",
       "1  Used it for a fair amount of time without any ...      1             11   \n",
       "\n",
       "  reviewCreatedVersion                   at  \\\n",
       "0             4.17.0.3  2020-04-05 22:25:57   \n",
       "1             4.17.0.3  2020-04-04 13:40:01   \n",
       "\n",
       "                                        replyContent            repliedAt  \\\n",
       "0  According to our TOS, and the term you have ag...  2020-04-05 15:10:24   \n",
       "1  It sounds like you logged in with a different ...  2020-04-05 15:11:35   \n",
       "\n",
       "       sortOrder      appId  \n",
       "0  most_relevant  com.anydo  \n",
       "1  most_relevant  com.anydo  "
      ]
     },
     "execution_count": 5,
     "metadata": {},
     "output_type": "execute_result"
    }
   ],
   "source": [
    "df.head(2)"
   ]
  },
  {
   "cell_type": "code",
   "execution_count": 6,
   "id": "497fd67f",
   "metadata": {
    "execution": {
     "iopub.execute_input": "2024-10-28T14:49:22.451163Z",
     "iopub.status.busy": "2024-10-28T14:49:22.450870Z",
     "iopub.status.idle": "2024-10-28T14:49:22.456101Z",
     "shell.execute_reply": "2024-10-28T14:49:22.455278Z"
    },
    "executionInfo": {
     "elapsed": 8,
     "status": "ok",
     "timestamp": 1730120203622,
     "user": {
      "displayName": "César Chalco",
      "userId": "16579770990679984007"
     },
     "user_tz": 300
    },
    "id": "7kG7TBpjXBrU",
    "outputId": "4401591f-0778-4ddc-f82b-6a4e69cdc479",
    "papermill": {
     "duration": 0.038936,
     "end_time": "2024-10-28T14:49:22.457953",
     "exception": false,
     "start_time": "2024-10-28T14:49:22.419017",
     "status": "completed"
    },
    "tags": []
   },
   "outputs": [
    {
     "data": {
      "text/plain": [
       "(15746, 11)"
      ]
     },
     "execution_count": 6,
     "metadata": {},
     "output_type": "execute_result"
    }
   ],
   "source": [
    "df.shape"
   ]
  },
  {
   "cell_type": "code",
   "execution_count": 7,
   "id": "72c3d1d9",
   "metadata": {
    "execution": {
     "iopub.execute_input": "2024-10-28T14:49:22.522534Z",
     "iopub.status.busy": "2024-10-28T14:49:22.522233Z",
     "iopub.status.idle": "2024-10-28T14:49:22.526696Z",
     "shell.execute_reply": "2024-10-28T14:49:22.525887Z"
    },
    "executionInfo": {
     "elapsed": 6,
     "status": "ok",
     "timestamp": 1730120203622,
     "user": {
      "displayName": "César Chalco",
      "userId": "16579770990679984007"
     },
     "user_tz": 300
    },
    "id": "NoKax6dwXBrV",
    "papermill": {
     "duration": 0.03937,
     "end_time": "2024-10-28T14:49:22.528513",
     "exception": false,
     "start_time": "2024-10-28T14:49:22.489143",
     "status": "completed"
    },
    "tags": []
   },
   "outputs": [],
   "source": [
    "# Map sentiment scores to categories\n",
    "def map_sentiment_scores(score_value):\n",
    "    score_value = int(score_value)\n",
    "    if score_value <= 2:\n",
    "        return 0\n",
    "    elif score_value == 3:\n",
    "        return 1\n",
    "    else:\n",
    "        return 2"
   ]
  },
  {
   "cell_type": "code",
   "execution_count": 8,
   "id": "7786ec3c",
   "metadata": {
    "execution": {
     "iopub.execute_input": "2024-10-28T14:49:22.592682Z",
     "iopub.status.busy": "2024-10-28T14:49:22.592142Z",
     "iopub.status.idle": "2024-10-28T14:49:22.609345Z",
     "shell.execute_reply": "2024-10-28T14:49:22.608547Z"
    },
    "executionInfo": {
     "elapsed": 5,
     "status": "ok",
     "timestamp": 1730120203622,
     "user": {
      "displayName": "César Chalco",
      "userId": "16579770990679984007"
     },
     "user_tz": 300
    },
    "id": "VHZoD7LFXBrV",
    "papermill": {
     "duration": 0.05117,
     "end_time": "2024-10-28T14:49:22.611205",
     "exception": false,
     "start_time": "2024-10-28T14:49:22.560035",
     "status": "completed"
    },
    "tags": []
   },
   "outputs": [],
   "source": [
    "df['sentiment'] = df.score.apply(map_sentiment_scores)\n",
    "class_names = ['negative', 'neutral', 'positive']"
   ]
  },
  {
   "cell_type": "code",
   "execution_count": 9,
   "id": "3fd212fa",
   "metadata": {
    "execution": {
     "iopub.execute_input": "2024-10-28T14:49:22.674598Z",
     "iopub.status.busy": "2024-10-28T14:49:22.674340Z",
     "iopub.status.idle": "2024-10-28T14:49:23.030136Z",
     "shell.execute_reply": "2024-10-28T14:49:23.029181Z"
    },
    "executionInfo": {
     "elapsed": 910,
     "status": "ok",
     "timestamp": 1730120204527,
     "user": {
      "displayName": "César Chalco",
      "userId": "16579770990679984007"
     },
     "user_tz": 300
    },
    "id": "VeaFmRO0XBrV",
    "outputId": "7988d5b6-e73c-4878-97c7-8077d78ff359",
    "papermill": {
     "duration": 0.390107,
     "end_time": "2024-10-28T14:49:23.032509",
     "exception": false,
     "start_time": "2024-10-28T14:49:22.642402",
     "status": "completed"
    },
    "tags": []
   },
   "outputs": [
    {
     "data": {
      "image/png": "[encoded data removed]",
      "text/plain": [
       "<Figure size 800x400 with 1 Axes>"
      ]
     },
     "metadata": {
      "image/png": {
       "height": 409,
       "width": 725
      }
     },
     "output_type": "display_data"
    }
   ],
   "source": [
    "# Count the occurrences of each sentiment\n",
    "sentiment_counts = df['sentiment'].value_counts().sort_index()\n",
    "\n",
    "# Set up class names and their respective counts\n",
    "class_names = ['negative', 'neutral', 'positive']\n",
    "class_counts = [sentiment_counts.get(i, 0) for i in range(len(class_names))]\n",
    "\n",
    "# Plotting with Matplotlib\n",
    "fig, ax = plt.subplots()\n",
    "fig.set_size_inches(8, 4)\n",
    "ax.bar(class_names, class_counts, color='skyblue')\n",
    "ax.set_xlabel('Review Sentiment')\n",
    "ax.set_ylabel('Count')\n",
    "ax.set_title('Sentiment Distribution')\n",
    "\n",
    "plt.show()"
   ]
  },
  {
   "cell_type": "code",
   "execution_count": 10,
   "id": "ff04bc25",
   "metadata": {
    "execution": {
     "iopub.execute_input": "2024-10-28T14:49:23.099641Z",
     "iopub.status.busy": "2024-10-28T14:49:23.099322Z",
     "iopub.status.idle": "2024-10-28T14:49:23.808344Z",
     "shell.execute_reply": "2024-10-28T14:49:23.807427Z"
    },
    "executionInfo": {
     "elapsed": 895,
     "status": "ok",
     "timestamp": 1730120205419,
     "user": {
      "displayName": "César Chalco",
      "userId": "16579770990679984007"
     },
     "user_tz": 300
    },
    "id": "6AH7OccFXBrV",
    "outputId": "9d50fd67-d725-4880-8afe-6da5f448ae39",
    "papermill": {
     "duration": 0.745619,
     "end_time": "2024-10-28T14:49:23.811146",
     "exception": false,
     "start_time": "2024-10-28T14:49:23.065527",
     "status": "completed"
    },
    "tags": []
   },
   "outputs": [
    {
     "name": "stderr",
     "output_type": "stream",
     "text": [
      "/opt/conda/lib/python3.10/site-packages/seaborn/_oldcore.py:1119: FutureWarning: use_inf_as_na option is deprecated and will be removed in a future version. Convert inf values to NaN before operating instead.\n",
      "  with pd.option_context('mode.use_inf_as_na', True):\n"
     ]
    },
    {
     "data": {
      "image/png": "[encoded data removed]",
      "text/plain": [
       "<Figure size 800x400 with 1 Axes>"
      ]
     },
     "metadata": {
      "image/png": {
       "height": 409,
       "width": 731
      }
     },
     "output_type": "display_data"
    }
   ],
   "source": [
    "# Calculate the lengths of the content\n",
    "lengths = [len(e) for e in df[\"content\"].str.split(\" \").values]\n",
    "\n",
    "# Plotting with Seaborn's kdeplot\n",
    "fig, ax = plt.subplots()\n",
    "fig.set_size_inches(8, 4)\n",
    "sns.kdeplot(lengths, ax=ax, color='skyblue', fill=True)\n",
    "ax.set_xlabel('Content Length')\n",
    "ax.set_ylabel('Density')\n",
    "ax.set_title('Tokens Length Distribution')\n",
    "\n",
    "plt.show()"
   ]
  },
  {
   "cell_type": "markdown",
   "id": "19276185",
   "metadata": {
    "id": "W8BkG55pXBrW",
    "papermill": {
     "duration": 0.033271,
     "end_time": "2024-10-28T14:49:23.878269",
     "exception": false,
     "start_time": "2024-10-28T14:49:23.844998",
     "status": "completed"
    },
    "tags": []
   },
   "source": [
    "# Model"
   ]
  },
  {
   "cell_type": "markdown",
   "id": "714e4711",
   "metadata": {
    "id": "BG0_qS_HXBrW",
    "papermill": {
     "duration": 0.033203,
     "end_time": "2024-10-28T14:49:23.944700",
     "exception": false,
     "start_time": "2024-10-28T14:49:23.911497",
     "status": "completed"
    },
    "tags": []
   },
   "source": [
    "### Define Transformer"
   ]
  },
  {
   "cell_type": "code",
   "execution_count": 11,
   "id": "60bc1684",
   "metadata": {
    "execution": {
     "iopub.execute_input": "2024-10-28T14:49:24.013002Z",
     "iopub.status.busy": "2024-10-28T14:49:24.012598Z",
     "iopub.status.idle": "2024-10-28T14:49:24.017067Z",
     "shell.execute_reply": "2024-10-28T14:49:24.016257Z"
    },
    "executionInfo": {
     "elapsed": 7,
     "status": "ok",
     "timestamp": 1730120205419,
     "user": {
      "displayName": "César Chalco",
      "userId": "16579770990679984007"
     },
     "user_tz": 300
    },
    "id": "w1r-IjtnXBrW",
    "papermill": {
     "duration": 0.041074,
     "end_time": "2024-10-28T14:49:24.018952",
     "exception": false,
     "start_time": "2024-10-28T14:49:23.977878",
     "status": "completed"
    },
    "tags": []
   },
   "outputs": [],
   "source": [
    "PRE_TRAINED_MODEL_NAME = 'bert-base-cased'"
   ]
  },
  {
   "cell_type": "markdown",
   "id": "d0849e60",
   "metadata": {
    "id": "YxhD3Uh4XBrW",
    "papermill": {
     "duration": 0.033207,
     "end_time": "2024-10-28T14:49:24.086010",
     "exception": false,
     "start_time": "2024-10-28T14:49:24.052803",
     "status": "completed"
    },
    "tags": []
   },
   "source": [
    "### Get respective Tokenizer"
   ]
  },
  {
   "cell_type": "code",
   "execution_count": 12,
   "id": "130eaffe",
   "metadata": {
    "execution": {
     "iopub.execute_input": "2024-10-28T14:49:24.189463Z",
     "iopub.status.busy": "2024-10-28T14:49:24.189095Z",
     "iopub.status.idle": "2024-10-28T14:49:25.402029Z",
     "shell.execute_reply": "2024-10-28T14:49:25.401037Z"
    },
    "executionInfo": {
     "elapsed": 7,
     "status": "ok",
     "timestamp": 1730120205419,
     "user": {
      "displayName": "César Chalco",
      "userId": "16579770990679984007"
     },
     "user_tz": 300
    },
    "id": "KtJiAHGGXBrW",
    "papermill": {
     "duration": 1.285086,
     "end_time": "2024-10-28T14:49:25.404327",
     "exception": false,
     "start_time": "2024-10-28T14:49:24.119241",
     "status": "completed"
    },
    "tags": []
   },
   "outputs": [],
   "source": [
    "from transformers import AutoTokenizer"
   ]
  },
  {
   "cell_type": "code",
   "execution_count": 13,
   "id": "b7aa358b",
   "metadata": {
    "execution": {
     "iopub.execute_input": "2024-10-28T14:49:25.473568Z",
     "iopub.status.busy": "2024-10-28T14:49:25.472825Z",
     "iopub.status.idle": "2024-10-28T14:49:27.004917Z",
     "shell.execute_reply": "2024-10-28T14:49:27.003686Z"
    },
    "executionInfo": {
     "elapsed": 2541,
     "status": "ok",
     "timestamp": 1730120207954,
     "user": {
      "displayName": "César Chalco",
      "userId": "16579770990679984007"
     },
     "user_tz": 300
    },
    "id": "_BKu9QFJXBrX",
    "outputId": "6f02ce00-689e-4dc5-e10e-db95dfd1bb42",
    "papermill": {
     "duration": 1.568552,
     "end_time": "2024-10-28T14:49:27.007241",
     "exception": false,
     "start_time": "2024-10-28T14:49:25.438689",
     "status": "completed"
    },
    "tags": []
   },
   "outputs": [
    {
     "data": {
      "application/vnd.jupyter.widget-view+json": {
       "model_id": "654a8f553bd141b3b111b2e6ae42487c",
       "version_major": 2,
       "version_minor": 0
      },
      "text/plain": [
       "tokenizer_config.json:   0%|          | 0.00/49.0 [00:00<?, ?B/s]"
      ]
     },
     "metadata": {},
     "output_type": "display_data"
    },
    {
     "data": {
      "application/vnd.jupyter.widget-view+json": {
       "model_id": "679736cdd4d54ea2b86378f2cf6cd20b",
       "version_major": 2,
       "version_minor": 0
      },
      "text/plain": [
       "config.json:   0%|          | 0.00/570 [00:00<?, ?B/s]"
      ]
     },
     "metadata": {},
     "output_type": "display_data"
    },
    {
     "data": {
      "application/vnd.jupyter.widget-view+json": {
       "model_id": "b20d3433ac9c47c39a1598e945387d81",
       "version_major": 2,
       "version_minor": 0
      },
      "text/plain": [
       "vocab.txt:   0%|          | 0.00/213k [00:00<?, ?B/s]"
      ]
     },
     "metadata": {},
     "output_type": "display_data"
    },
    {
     "data": {
      "application/vnd.jupyter.widget-view+json": {
       "model_id": "13da6d839afd4664923777fbd9176e98",
       "version_major": 2,
       "version_minor": 0
      },
      "text/plain": [
       "tokenizer.json:   0%|          | 0.00/436k [00:00<?, ?B/s]"
      ]
     },
     "metadata": {},
     "output_type": "display_data"
    },
    {
     "name": "stderr",
     "output_type": "stream",
     "text": [
      "/opt/conda/lib/python3.10/site-packages/transformers/tokenization_utils_base.py:1617: FutureWarning: `clean_up_tokenization_spaces` was not set. It will be set to `True` by default. This behavior will be deprecated in transformers v4.45, and will be then set to `False` by default. For more details check this issue: https://github.com/huggingface/transformers/issues/31884\n",
      "  warnings.warn(\n"
     ]
    }
   ],
   "source": [
    "tokenizer = AutoTokenizer.from_pretrained(PRE_TRAINED_MODEL_NAME)"
   ]
  },
  {
   "cell_type": "markdown",
   "id": "22e0146d",
   "metadata": {
    "id": "g7Qyx4gtXBrX",
    "papermill": {
     "duration": 0.035474,
     "end_time": "2024-10-28T14:49:27.077987",
     "exception": false,
     "start_time": "2024-10-28T14:49:27.042513",
     "status": "completed"
    },
    "tags": []
   },
   "source": [
    "### Example of tokenization"
   ]
  },
  {
   "cell_type": "code",
   "execution_count": 14,
   "id": "28f6111d",
   "metadata": {
    "execution": {
     "iopub.execute_input": "2024-10-28T14:49:27.147852Z",
     "iopub.status.busy": "2024-10-28T14:49:27.147506Z",
     "iopub.status.idle": "2024-10-28T14:49:27.152568Z",
     "shell.execute_reply": "2024-10-28T14:49:27.151696Z"
    },
    "executionInfo": {
     "elapsed": 11,
     "status": "ok",
     "timestamp": 1730120207954,
     "user": {
      "displayName": "César Chalco",
      "userId": "16579770990679984007"
     },
     "user_tz": 300
    },
    "id": "3QDksUKXXBrX",
    "papermill": {
     "duration": 0.042495,
     "end_time": "2024-10-28T14:49:27.154516",
     "exception": false,
     "start_time": "2024-10-28T14:49:27.112021",
     "status": "completed"
    },
    "tags": []
   },
   "outputs": [],
   "source": [
    "sample_txt = \"Hi! My name is Chesar and I'm a Machine Learning Engineer from Peru!\"\n",
    "tokens = tokenizer.tokenize(sample_txt)\n",
    "token_ids = tokenizer.convert_tokens_to_ids(tokens)"
   ]
  },
  {
   "cell_type": "code",
   "execution_count": 15,
   "id": "0d24bfdb",
   "metadata": {
    "execution": {
     "iopub.execute_input": "2024-10-28T14:49:27.223400Z",
     "iopub.status.busy": "2024-10-28T14:49:27.223104Z",
     "iopub.status.idle": "2024-10-28T14:49:27.228103Z",
     "shell.execute_reply": "2024-10-28T14:49:27.227218Z"
    },
    "executionInfo": {
     "elapsed": 11,
     "status": "ok",
     "timestamp": 1730120207954,
     "user": {
      "displayName": "César Chalco",
      "userId": "16579770990679984007"
     },
     "user_tz": 300
    },
    "id": "sFatY-T8XBrX",
    "outputId": "82bce668-06a3-4138-ee91-f42a8bbc2bee",
    "papermill": {
     "duration": 0.041802,
     "end_time": "2024-10-28T14:49:27.230223",
     "exception": false,
     "start_time": "2024-10-28T14:49:27.188421",
     "status": "completed"
    },
    "tags": []
   },
   "outputs": [
    {
     "name": "stdout",
     "output_type": "stream",
     "text": [
      " Sentence: Hi! My name is Chesar and I'm a Machine Learning Engineer from Peru!\n",
      "   Tokens: ['Hi', '!', 'My', 'name', 'is', 'Ch', '##es', '##ar', 'and', 'I', \"'\", 'm', 'a', 'Machine', 'Learning', 'Engineer', 'from', 'Peru', '!']\n",
      "Token IDs: [8790, 106, 1422, 1271, 1110, 20394, 1279, 1813, 1105, 146, 112, 182, 170, 7792, 9681, 8252, 1121, 7022, 106]\n"
     ]
    }
   ],
   "source": [
    "print(f' Sentence: {sample_txt}')\n",
    "print(f'   Tokens: {tokens}')\n",
    "print(f'Token IDs: {token_ids}')"
   ]
  },
  {
   "cell_type": "code",
   "execution_count": 16,
   "id": "e6bb0056",
   "metadata": {
    "execution": {
     "iopub.execute_input": "2024-10-28T14:49:27.299422Z",
     "iopub.status.busy": "2024-10-28T14:49:27.299151Z",
     "iopub.status.idle": "2024-10-28T14:49:27.303592Z",
     "shell.execute_reply": "2024-10-28T14:49:27.302806Z"
    },
    "executionInfo": {
     "elapsed": 10,
     "status": "ok",
     "timestamp": 1730120207954,
     "user": {
      "displayName": "César Chalco",
      "userId": "16579770990679984007"
     },
     "user_tz": 300
    },
    "id": "MdcU9GKxXBrX",
    "papermill": {
     "duration": 0.041312,
     "end_time": "2024-10-28T14:49:27.305547",
     "exception": false,
     "start_time": "2024-10-28T14:49:27.264235",
     "status": "completed"
    },
    "tags": []
   },
   "outputs": [],
   "source": [
    "sample_txt = \"Hi! My name is Chesar and I'm a Machine Learning Engineer from Peru!\"\n",
    "tokens = tokenizer.tokenize(sample_txt, add_special_tokens=True)\n",
    "token_ids = tokenizer.convert_tokens_to_ids(tokens)"
   ]
  },
  {
   "cell_type": "code",
   "execution_count": 17,
   "id": "411e8aaa",
   "metadata": {
    "execution": {
     "iopub.execute_input": "2024-10-28T14:49:27.375271Z",
     "iopub.status.busy": "2024-10-28T14:49:27.374990Z",
     "iopub.status.idle": "2024-10-28T14:49:27.379563Z",
     "shell.execute_reply": "2024-10-28T14:49:27.378717Z"
    },
    "executionInfo": {
     "elapsed": 9,
     "status": "ok",
     "timestamp": 1730120207954,
     "user": {
      "displayName": "César Chalco",
      "userId": "16579770990679984007"
     },
     "user_tz": 300
    },
    "id": "dS0fcApjXBrX",
    "outputId": "dbbb234b-6006-4e50-dd9e-d25ebaa09606",
    "papermill": {
     "duration": 0.042263,
     "end_time": "2024-10-28T14:49:27.381816",
     "exception": false,
     "start_time": "2024-10-28T14:49:27.339553",
     "status": "completed"
    },
    "tags": []
   },
   "outputs": [
    {
     "name": "stdout",
     "output_type": "stream",
     "text": [
      " Sentence: Hi! My name is Chesar and I'm a Machine Learning Engineer from Peru!\n",
      "   Tokens: ['[CLS]', 'Hi', '!', 'My', 'name', 'is', 'Ch', '##es', '##ar', 'and', 'I', \"'\", 'm', 'a', 'Machine', 'Learning', 'Engineer', 'from', 'Peru', '!', '[SEP]']\n",
      "Token IDs: [101, 8790, 106, 1422, 1271, 1110, 20394, 1279, 1813, 1105, 146, 112, 182, 170, 7792, 9681, 8252, 1121, 7022, 106, 102]\n"
     ]
    }
   ],
   "source": [
    "print(f' Sentence: {sample_txt}')\n",
    "print(f'   Tokens: {tokens}')\n",
    "print(f'Token IDs: {token_ids}')"
   ]
  },
  {
   "cell_type": "markdown",
   "id": "5d2adb57",
   "metadata": {
    "id": "I_icNBLjXBrX",
    "papermill": {
     "duration": 0.034073,
     "end_time": "2024-10-28T14:49:27.450072",
     "exception": false,
     "start_time": "2024-10-28T14:49:27.415999",
     "status": "completed"
    },
    "tags": []
   },
   "source": [
    "- `[CLS]` token stands for the token that marks the very beggining of the sentence and it's called the classification token.\n",
    "- `[SEP]` token stands for the token that marks the separation between sentences and it's called the separator token."
   ]
  },
  {
   "cell_type": "markdown",
   "id": "14af0549",
   "metadata": {
    "id": "kPuWDyLYXBrX",
    "papermill": {
     "duration": 0.03452,
     "end_time": "2024-10-28T14:49:27.519200",
     "exception": false,
     "start_time": "2024-10-28T14:49:27.484680",
     "status": "completed"
    },
    "tags": []
   },
   "source": [
    "### Example of encoding (tokenization + encoding)"
   ]
  },
  {
   "cell_type": "code",
   "execution_count": 18,
   "id": "d3820950",
   "metadata": {
    "execution": {
     "iopub.execute_input": "2024-10-28T14:49:27.590808Z",
     "iopub.status.busy": "2024-10-28T14:49:27.590488Z",
     "iopub.status.idle": "2024-10-28T14:49:27.595015Z",
     "shell.execute_reply": "2024-10-28T14:49:27.594128Z"
    },
    "executionInfo": {
     "elapsed": 7,
     "status": "ok",
     "timestamp": 1730120207954,
     "user": {
      "displayName": "César Chalco",
      "userId": "16579770990679984007"
     },
     "user_tz": 300
    },
    "id": "49jOaDC5XBrX",
    "outputId": "ed47246a-eed8-47a0-e102-ad1f0643c5b1",
    "papermill": {
     "duration": 0.041504,
     "end_time": "2024-10-28T14:49:27.596925",
     "exception": false,
     "start_time": "2024-10-28T14:49:27.555421",
     "status": "completed"
    },
    "tags": []
   },
   "outputs": [
    {
     "name": "stdout",
     "output_type": "stream",
     "text": [
      "Hi! My name is Chesar and I'm a Machine Learning Engineer from Peru!\n"
     ]
    }
   ],
   "source": [
    "print(sample_txt)"
   ]
  },
  {
   "cell_type": "code",
   "execution_count": 19,
   "id": "34b9d4a5",
   "metadata": {
    "execution": {
     "iopub.execute_input": "2024-10-28T14:49:27.666695Z",
     "iopub.status.busy": "2024-10-28T14:49:27.666407Z",
     "iopub.status.idle": "2024-10-28T14:49:27.694868Z",
     "shell.execute_reply": "2024-10-28T14:49:27.694001Z"
    },
    "executionInfo": {
     "elapsed": 5,
     "status": "ok",
     "timestamp": 1730120207954,
     "user": {
      "displayName": "César Chalco",
      "userId": "16579770990679984007"
     },
     "user_tz": 300
    },
    "id": "DedyjjxcXBrX",
    "papermill": {
     "duration": 0.065361,
     "end_time": "2024-10-28T14:49:27.696698",
     "exception": false,
     "start_time": "2024-10-28T14:49:27.631337",
     "status": "completed"
    },
    "tags": []
   },
   "outputs": [],
   "source": [
    "encoding = tokenizer.encode_plus(\n",
    "    sample_txt,\n",
    "    max_length=32,\n",
    "    truncation=True,\n",
    "    add_special_tokens=True, # Add '[CLS]' and '[SEP]'\n",
    "    return_token_type_ids=False,\n",
    "    padding=True,\n",
    "    return_attention_mask=True,\n",
    "    return_tensors='pt' # Return PyTorch tensors)\n",
    ")"
   ]
  },
  {
   "cell_type": "code",
   "execution_count": 20,
   "id": "4c9075b2",
   "metadata": {
    "execution": {
     "iopub.execute_input": "2024-10-28T14:49:27.766340Z",
     "iopub.status.busy": "2024-10-28T14:49:27.766040Z",
     "iopub.status.idle": "2024-10-28T14:49:27.781822Z",
     "shell.execute_reply": "2024-10-28T14:49:27.780996Z"
    },
    "executionInfo": {
     "elapsed": 6,
     "status": "ok",
     "timestamp": 1730120207955,
     "user": {
      "displayName": "César Chalco",
      "userId": "16579770990679984007"
     },
     "user_tz": 300
    },
    "id": "JxMbQbrAXBrY",
    "outputId": "93725c56-b72b-47c4-cebc-02f2df142a81",
    "papermill": {
     "duration": 0.053133,
     "end_time": "2024-10-28T14:49:27.783966",
     "exception": false,
     "start_time": "2024-10-28T14:49:27.730833",
     "status": "completed"
    },
    "tags": []
   },
   "outputs": [
    {
     "name": "stdout",
     "output_type": "stream",
     "text": [
      "Encoding keys: dict_keys(['input_ids', 'attention_mask'])\n",
      "Length of input_ids: 21\n",
      "Input IDs: [101, 8790, 106, 1422, 1271, 1110, 20394, 1279, 1813, 1105, 146, 112, 182, 170, 7792, 9681, 8252, 1121, 7022, 106, 102]\n",
      "Length of attention_mask: 21\n",
      "Attention Mask: [1, 1, 1, 1, 1, 1, 1, 1, 1, 1, 1, 1, 1, 1, 1, 1, 1, 1, 1, 1, 1]\n",
      "Tokens: ['[CLS]', 'Hi', '!', 'My', 'name', 'is', 'Ch', '##es', '##ar', 'and', 'I', \"'\", 'm', 'a', 'Machine', 'Learning', 'Engineer', 'from', 'Peru', '!', '[SEP]']\n"
     ]
    }
   ],
   "source": [
    "# Detailed explanation of the output\n",
    "print(f'Encoding keys: {encoding.keys()}')\n",
    "\n",
    "# Length of input_ids\n",
    "input_ids = encoding['input_ids'][0].tolist()\n",
    "print(f'Length of input_ids: {len(input_ids)}')\n",
    "print(f'Input IDs: {input_ids}')\n",
    "\n",
    "# Length and values of attention mask\n",
    "attention_mask = encoding['attention_mask'][0].tolist()\n",
    "print(f'Length of attention_mask: {len(attention_mask)}')\n",
    "print(f'Attention Mask: {attention_mask}')\n",
    "\n",
    "# Tokens converted back from IDs\n",
    "tokens = tokenizer.convert_ids_to_tokens(input_ids)\n",
    "print(f'Tokens: {tokens}')"
   ]
  },
  {
   "cell_type": "markdown",
   "id": "f0ec5d7a",
   "metadata": {
    "id": "EWuVpK3ZXBrY",
    "papermill": {
     "duration": 0.034489,
     "end_time": "2024-10-28T14:49:27.852938",
     "exception": false,
     "start_time": "2024-10-28T14:49:27.818449",
     "status": "completed"
    },
    "tags": []
   },
   "source": [
    "### Visualization of the token counts in the dataset}"
   ]
  },
  {
   "cell_type": "code",
   "execution_count": 21,
   "id": "e7aff89e",
   "metadata": {
    "execution": {
     "iopub.execute_input": "2024-10-28T14:49:27.923217Z",
     "iopub.status.busy": "2024-10-28T14:49:27.922615Z",
     "iopub.status.idle": "2024-10-28T14:49:30.413731Z",
     "shell.execute_reply": "2024-10-28T14:49:30.412943Z"
    },
    "executionInfo": {
     "elapsed": 7519,
     "status": "ok",
     "timestamp": 1730120215469,
     "user": {
      "displayName": "César Chalco",
      "userId": "16579770990679984007"
     },
     "user_tz": 300
    },
    "id": "qXnBBIK0XBrY",
    "papermill": {
     "duration": 2.528638,
     "end_time": "2024-10-28T14:49:30.416096",
     "exception": false,
     "start_time": "2024-10-28T14:49:27.887458",
     "status": "completed"
    },
    "tags": []
   },
   "outputs": [],
   "source": [
    "# Token lengths calculation\n",
    "token_lens = []\n",
    "for txt in df['content']:\n",
    "    tokens = tokenizer.encode(txt, truncation=True, max_length=512)\n",
    "    token_lens.append(len(tokens))"
   ]
  },
  {
   "cell_type": "code",
   "execution_count": 22,
   "id": "9baf179e",
   "metadata": {
    "execution": {
     "iopub.execute_input": "2024-10-28T14:49:30.487815Z",
     "iopub.status.busy": "2024-10-28T14:49:30.487495Z",
     "iopub.status.idle": "2024-10-28T14:49:31.074472Z",
     "shell.execute_reply": "2024-10-28T14:49:31.073563Z"
    },
    "executionInfo": {
     "elapsed": 1516,
     "status": "ok",
     "timestamp": 1730120216983,
     "user": {
      "displayName": "César Chalco",
      "userId": "16579770990679984007"
     },
     "user_tz": 300
    },
    "id": "fLsNT3NDXBrY",
    "outputId": "fbedec11-e54b-473f-ca93-e28dbd724b0b",
    "papermill": {
     "duration": 0.625691,
     "end_time": "2024-10-28T14:49:31.077113",
     "exception": false,
     "start_time": "2024-10-28T14:49:30.451422",
     "status": "completed"
    },
    "tags": []
   },
   "outputs": [
    {
     "name": "stderr",
     "output_type": "stream",
     "text": [
      "/opt/conda/lib/python3.10/site-packages/seaborn/_oldcore.py:1119: FutureWarning: use_inf_as_na option is deprecated and will be removed in a future version. Convert inf values to NaN before operating instead.\n",
      "  with pd.option_context('mode.use_inf_as_na', True):\n"
     ]
    },
    {
     "data": {
      "image/png": "[encoded data removed]",
      "text/plain": [
       "<Figure size 800x400 with 1 Axes>"
      ]
     },
     "metadata": {
      "image/png": {
       "height": 409,
       "width": 728
      }
     },
     "output_type": "display_data"
    }
   ],
   "source": [
    "# Object-oriented plotting with Seaborn\n",
    "fig, ax = plt.subplots(figsize=(10, 6))\n",
    "fig.set_size_inches(8, 4)\n",
    "sns.histplot(token_lens, bins=30, kde=True, color='skyblue', ax=ax)\n",
    "ax.set_xlim([0, 256])\n",
    "ax.set_xlabel('Token Count')\n",
    "ax.set_ylabel('Frequency')\n",
    "ax.set_title('Distribution of Token Counts')\n",
    "\n",
    "plt.show()"
   ]
  },
  {
   "cell_type": "markdown",
   "id": "e5dd3ac3",
   "metadata": {
    "id": "8hOlpXVeXBrY",
    "papermill": {
     "duration": 0.035282,
     "end_time": "2024-10-28T14:49:31.148524",
     "exception": false,
     "start_time": "2024-10-28T14:49:31.113242",
     "status": "completed"
    },
    "tags": []
   },
   "source": [
    "## Dataset Utility Class"
   ]
  },
  {
   "cell_type": "code",
   "execution_count": 23,
   "id": "67855702",
   "metadata": {
    "execution": {
     "iopub.execute_input": "2024-10-28T14:49:31.220667Z",
     "iopub.status.busy": "2024-10-28T14:49:31.220021Z",
     "iopub.status.idle": "2024-10-28T14:49:31.224170Z",
     "shell.execute_reply": "2024-10-28T14:49:31.223285Z"
    },
    "executionInfo": {
     "elapsed": 11,
     "status": "ok",
     "timestamp": 1730120216983,
     "user": {
      "displayName": "César Chalco",
      "userId": "16579770990679984007"
     },
     "user_tz": 300
    },
    "id": "kR1FrFwAXBrY",
    "papermill": {
     "duration": 0.042351,
     "end_time": "2024-10-28T14:49:31.226052",
     "exception": false,
     "start_time": "2024-10-28T14:49:31.183701",
     "status": "completed"
    },
    "tags": []
   },
   "outputs": [],
   "source": [
    "from torch.utils.data import Dataset"
   ]
  },
  {
   "cell_type": "code",
   "execution_count": 24,
   "id": "df4e5795",
   "metadata": {
    "execution": {
     "iopub.execute_input": "2024-10-28T14:49:31.298523Z",
     "iopub.status.busy": "2024-10-28T14:49:31.297797Z",
     "iopub.status.idle": "2024-10-28T14:49:31.306656Z",
     "shell.execute_reply": "2024-10-28T14:49:31.305819Z"
    },
    "executionInfo": {
     "elapsed": 12,
     "status": "ok",
     "timestamp": 1730120216984,
     "user": {
      "displayName": "César Chalco",
      "userId": "16579770990679984007"
     },
     "user_tz": 300
    },
    "id": "GmNMyPudXBrY",
    "papermill": {
     "duration": 0.047087,
     "end_time": "2024-10-28T14:49:31.308545",
     "exception": false,
     "start_time": "2024-10-28T14:49:31.261458",
     "status": "completed"
    },
    "tags": []
   },
   "outputs": [],
   "source": [
    "MAX_LEN = 160\n",
    "BATCH_SIZE = 16\n",
    "\n",
    "\n",
    "class GPReviewDataset(Dataset):\n",
    "    def __init__(self, reviews, targets, tokenizer, max_len, include_raw_text=False):\n",
    "        self.reviews = reviews\n",
    "        self.targets = targets\n",
    "        self.tokenizer = tokenizer\n",
    "        self.max_len = max_len\n",
    "        self.include_raw_text = include_raw_text\n",
    "\n",
    "    def __len__(self):\n",
    "        return len(self.reviews)\n",
    "\n",
    "    def __getitem__(self, item):\n",
    "        review = str(self.reviews[item])\n",
    "        target = self.targets[item]\n",
    "        encoding = self.tokenizer.encode_plus(\n",
    "            review,\n",
    "            add_special_tokens = True,\n",
    "            max_length = self.max_len,\n",
    "            return_token_type_ids = False,\n",
    "            return_attention_mask = True,\n",
    "            truncation = True,\n",
    "            padding = 'max_length',\n",
    "            return_tensors = 'pt'\n",
    "        )\n",
    "\n",
    "        output = {\n",
    "            'input_ids': encoding['input_ids'].flatten(),\n",
    "            'attention_mask': encoding['attention_mask'].flatten(),\n",
    "            'targets': torch.tensor(target, dtype=torch.long)\n",
    "        }\n",
    "        if self.include_raw_text:\n",
    "            output['review_text'] = review\n",
    "\n",
    "        return output"
   ]
  },
  {
   "cell_type": "code",
   "execution_count": 25,
   "id": "ae8eccbb",
   "metadata": {
    "execution": {
     "iopub.execute_input": "2024-10-28T14:49:31.381377Z",
     "iopub.status.busy": "2024-10-28T14:49:31.380692Z",
     "iopub.status.idle": "2024-10-28T14:49:31.385690Z",
     "shell.execute_reply": "2024-10-28T14:49:31.384902Z"
    },
    "executionInfo": {
     "elapsed": 12,
     "status": "ok",
     "timestamp": 1730120216984,
     "user": {
      "displayName": "César Chalco",
      "userId": "16579770990679984007"
     },
     "user_tz": 300
    },
    "id": "txxtzV3DXBrY",
    "papermill": {
     "duration": 0.043265,
     "end_time": "2024-10-28T14:49:31.387508",
     "exception": false,
     "start_time": "2024-10-28T14:49:31.344243",
     "status": "completed"
    },
    "tags": []
   },
   "outputs": [],
   "source": [
    "def create_data_loader(df, tokenizer, max_len=MAX_LEN, batch_size=BATCH_SIZE, include_raw_text=False):\n",
    "    ds = GPReviewDataset(\n",
    "        reviews = df.content.to_list(),\n",
    "        targets = df.sentiment.to_list(),\n",
    "        tokenizer = tokenizer,\n",
    "        max_len = max_len,\n",
    "        include_raw_text = include_raw_text)\n",
    "    return DataLoader(ds, batch_size=batch_size)"
   ]
  },
  {
   "cell_type": "code",
   "execution_count": 26,
   "id": "42f89e33",
   "metadata": {
    "execution": {
     "iopub.execute_input": "2024-10-28T14:49:31.459632Z",
     "iopub.status.busy": "2024-10-28T14:49:31.459366Z",
     "iopub.status.idle": "2024-10-28T14:49:31.472650Z",
     "shell.execute_reply": "2024-10-28T14:49:31.471976Z"
    },
    "executionInfo": {
     "elapsed": 12,
     "status": "ok",
     "timestamp": 1730120216984,
     "user": {
      "displayName": "César Chalco",
      "userId": "16579770990679984007"
     },
     "user_tz": 300
    },
    "id": "FzTThayzXBrY",
    "papermill": {
     "duration": 0.051702,
     "end_time": "2024-10-28T14:49:31.474528",
     "exception": false,
     "start_time": "2024-10-28T14:49:31.422826",
     "status": "completed"
    },
    "tags": []
   },
   "outputs": [],
   "source": [
    "df_train, df_test = train_test_split(df, test_size = 0.1, random_state = RANDOM_SEED)\n",
    "df_val, df_test = train_test_split(df_test, test_size = 0.5, random_state = RANDOM_SEED)"
   ]
  },
  {
   "cell_type": "code",
   "execution_count": 27,
   "id": "8ef1fa82",
   "metadata": {
    "execution": {
     "iopub.execute_input": "2024-10-28T14:49:31.548116Z",
     "iopub.status.busy": "2024-10-28T14:49:31.547839Z",
     "iopub.status.idle": "2024-10-28T14:49:31.552516Z",
     "shell.execute_reply": "2024-10-28T14:49:31.551701Z"
    },
    "executionInfo": {
     "elapsed": 11,
     "status": "ok",
     "timestamp": 1730120216984,
     "user": {
      "displayName": "César Chalco",
      "userId": "16579770990679984007"
     },
     "user_tz": 300
    },
    "id": "Bn30435KXBrY",
    "outputId": "21a6486d-687d-4b8b-be48-7c7568b20e05",
    "papermill": {
     "duration": 0.044162,
     "end_time": "2024-10-28T14:49:31.554388",
     "exception": false,
     "start_time": "2024-10-28T14:49:31.510226",
     "status": "completed"
    },
    "tags": []
   },
   "outputs": [
    {
     "name": "stdout",
     "output_type": "stream",
     "text": [
      "(14171, 12) (787, 12) (788, 12)\n"
     ]
    }
   ],
   "source": [
    "print(df_train.shape, df_val.shape, df_test.shape)"
   ]
  },
  {
   "cell_type": "code",
   "execution_count": 28,
   "id": "f4f673a3",
   "metadata": {
    "execution": {
     "iopub.execute_input": "2024-10-28T14:49:31.626704Z",
     "iopub.status.busy": "2024-10-28T14:49:31.626413Z",
     "iopub.status.idle": "2024-10-28T14:49:31.632169Z",
     "shell.execute_reply": "2024-10-28T14:49:31.631310Z"
    },
    "executionInfo": {
     "elapsed": 9,
     "status": "ok",
     "timestamp": 1730120216984,
     "user": {
      "displayName": "César Chalco",
      "userId": "16579770990679984007"
     },
     "user_tz": 300
    },
    "id": "RWp-r6_vXBrZ",
    "papermill": {
     "duration": 0.044024,
     "end_time": "2024-10-28T14:49:31.634104",
     "exception": false,
     "start_time": "2024-10-28T14:49:31.590080",
     "status": "completed"
    },
    "tags": []
   },
   "outputs": [],
   "source": [
    "train_data_loader = create_data_loader(df_train, tokenizer)\n",
    "val_data_loader = create_data_loader(df_val, tokenizer, include_raw_text=True)\n",
    "test_data_loader = create_data_loader(df_test, tokenizer, include_raw_text=True)"
   ]
  },
  {
   "cell_type": "code",
   "execution_count": 29,
   "id": "e0aea10c",
   "metadata": {
    "execution": {
     "iopub.execute_input": "2024-10-28T14:49:31.706008Z",
     "iopub.status.busy": "2024-10-28T14:49:31.705695Z",
     "iopub.status.idle": "2024-10-28T14:49:31.711194Z",
     "shell.execute_reply": "2024-10-28T14:49:31.710320Z"
    },
    "executionInfo": {
     "elapsed": 9,
     "status": "ok",
     "timestamp": 1730120216984,
     "user": {
      "displayName": "César Chalco",
      "userId": "16579770990679984007"
     },
     "user_tz": 300
    },
    "id": "YX2sEXkcXBrZ",
    "outputId": "ce876540-92c2-46b3-de18-d317d32033f6",
    "papermill": {
     "duration": 0.043721,
     "end_time": "2024-10-28T14:49:31.713130",
     "exception": false,
     "start_time": "2024-10-28T14:49:31.669409",
     "status": "completed"
    },
    "tags": []
   },
   "outputs": [
    {
     "data": {
      "text/plain": [
       "torch.utils.data.dataloader.DataLoader"
      ]
     },
     "execution_count": 29,
     "metadata": {},
     "output_type": "execute_result"
    }
   ],
   "source": [
    "type(train_data_loader)"
   ]
  },
  {
   "cell_type": "code",
   "execution_count": 30,
   "id": "6a0f18a0",
   "metadata": {
    "execution": {
     "iopub.execute_input": "2024-10-28T14:49:31.786144Z",
     "iopub.status.busy": "2024-10-28T14:49:31.785850Z",
     "iopub.status.idle": "2024-10-28T14:49:31.816173Z",
     "shell.execute_reply": "2024-10-28T14:49:31.815467Z"
    },
    "executionInfo": {
     "elapsed": 360,
     "status": "ok",
     "timestamp": 1730120217336,
     "user": {
      "displayName": "César Chalco",
      "userId": "16579770990679984007"
     },
     "user_tz": 300
    },
    "id": "arHfoY-SXBrZ",
    "papermill": {
     "duration": 0.069355,
     "end_time": "2024-10-28T14:49:31.818003",
     "exception": false,
     "start_time": "2024-10-28T14:49:31.748648",
     "status": "completed"
    },
    "tags": []
   },
   "outputs": [],
   "source": [
    "#Testing to see if the data loader works appropriately\n",
    "data = next(iter(train_data_loader))"
   ]
  },
  {
   "cell_type": "code",
   "execution_count": 31,
   "id": "10e7eeb2",
   "metadata": {
    "execution": {
     "iopub.execute_input": "2024-10-28T14:49:31.890634Z",
     "iopub.status.busy": "2024-10-28T14:49:31.890365Z",
     "iopub.status.idle": "2024-10-28T14:49:31.895326Z",
     "shell.execute_reply": "2024-10-28T14:49:31.894489Z"
    },
    "executionInfo": {
     "elapsed": 4,
     "status": "ok",
     "timestamp": 1730120217336,
     "user": {
      "displayName": "César Chalco",
      "userId": "16579770990679984007"
     },
     "user_tz": 300
    },
    "id": "H1mga2dtXBrZ",
    "outputId": "c0f46842-e230-4c04-bd57-b964f4f15447",
    "papermill": {
     "duration": 0.043775,
     "end_time": "2024-10-28T14:49:31.897720",
     "exception": false,
     "start_time": "2024-10-28T14:49:31.853945",
     "status": "completed"
    },
    "tags": []
   },
   "outputs": [
    {
     "name": "stdout",
     "output_type": "stream",
     "text": [
      "Batch Keys: dict_keys(['input_ids', 'attention_mask', 'targets'])\n",
      "Shape of 'input_ids' tensor: torch.Size([16, 160]) (Batch Size, Max Length)\n",
      "Shape of 'attention_mask' tensor: torch.Size([16, 160]) (Batch Size, Max Length)\n",
      "Shape of 'targets' tensor: torch.Size([16]) (Batch Size)\n"
     ]
    }
   ],
   "source": [
    "# Print the keys in the batch\n",
    "print(\"Batch Keys:\", data.keys())\n",
    "\n",
    "# Print the shape of the 'input_ids' tensor\n",
    "print(f\"Shape of 'input_ids' tensor: {data['input_ids'].shape} (Batch Size, Max Length)\")\n",
    "\n",
    "# Print the shape of the 'attention_mask' tensor\n",
    "print(f\"Shape of 'attention_mask' tensor: {data['attention_mask'].shape} (Batch Size, Max Length)\")\n",
    "\n",
    "# Print the shape of the 'targets' tensor\n",
    "print(f\"Shape of 'targets' tensor: {data['targets'].shape} (Batch Size)\")"
   ]
  },
  {
   "cell_type": "markdown",
   "id": "cddad507",
   "metadata": {
    "id": "PS5ZJZ3lXBrc",
    "papermill": {
     "duration": 0.036454,
     "end_time": "2024-10-28T14:49:31.970172",
     "exception": false,
     "start_time": "2024-10-28T14:49:31.933718",
     "status": "completed"
    },
    "tags": []
   },
   "source": [
    "## Model Utility Class"
   ]
  },
  {
   "cell_type": "markdown",
   "id": "a3972312",
   "metadata": {
    "id": "pdiUPHk6XBrc",
    "papermill": {
     "duration": 0.035999,
     "end_time": "2024-10-28T14:49:32.042352",
     "exception": false,
     "start_time": "2024-10-28T14:49:32.006353",
     "status": "completed"
    },
    "tags": []
   },
   "source": [
    "### Get the model (BERT)"
   ]
  },
  {
   "cell_type": "code",
   "execution_count": 32,
   "id": "030a5fd1",
   "metadata": {
    "execution": {
     "iopub.execute_input": "2024-10-28T14:49:32.118301Z",
     "iopub.status.busy": "2024-10-28T14:49:32.117926Z",
     "iopub.status.idle": "2024-10-28T14:49:32.136606Z",
     "shell.execute_reply": "2024-10-28T14:49:32.135704Z"
    },
    "executionInfo": {
     "elapsed": 3,
     "status": "ok",
     "timestamp": 1730120217336,
     "user": {
      "displayName": "César Chalco",
      "userId": "16579770990679984007"
     },
     "user_tz": 300
    },
    "id": "UWhwLk8GXBrc",
    "papermill": {
     "duration": 0.057838,
     "end_time": "2024-10-28T14:49:32.138698",
     "exception": false,
     "start_time": "2024-10-28T14:49:32.080860",
     "status": "completed"
    },
    "tags": []
   },
   "outputs": [],
   "source": [
    "from transformers import AutoModel"
   ]
  },
  {
   "cell_type": "code",
   "execution_count": 33,
   "id": "0eebee66",
   "metadata": {
    "execution": {
     "iopub.execute_input": "2024-10-28T14:49:32.212000Z",
     "iopub.status.busy": "2024-10-28T14:49:32.211363Z",
     "iopub.status.idle": "2024-10-28T14:49:35.604598Z",
     "shell.execute_reply": "2024-10-28T14:49:35.603643Z"
    },
    "executionInfo": {
     "elapsed": 4225,
     "status": "ok",
     "timestamp": 1730120221558,
     "user": {
      "displayName": "César Chalco",
      "userId": "16579770990679984007"
     },
     "user_tz": 300
    },
    "id": "uOM4zis-XBrc",
    "outputId": "0439937c-13a8-44b4-9f23-4102f936194a",
    "papermill": {
     "duration": 3.432295,
     "end_time": "2024-10-28T14:49:35.606725",
     "exception": false,
     "start_time": "2024-10-28T14:49:32.174430",
     "status": "completed"
    },
    "tags": []
   },
   "outputs": [
    {
     "data": {
      "application/vnd.jupyter.widget-view+json": {
       "model_id": "e9dce00e273d4d9799b6afc446a60567",
       "version_major": 2,
       "version_minor": 0
      },
      "text/plain": [
       "model.safetensors:   0%|          | 0.00/436M [00:00<?, ?B/s]"
      ]
     },
     "metadata": {},
     "output_type": "display_data"
    }
   ],
   "source": [
    "bert_model = AutoModel.from_pretrained(PRE_TRAINED_MODEL_NAME)"
   ]
  },
  {
   "cell_type": "code",
   "execution_count": 34,
   "id": "998f35b3",
   "metadata": {
    "execution": {
     "iopub.execute_input": "2024-10-28T14:49:35.680519Z",
     "iopub.status.busy": "2024-10-28T14:49:35.680039Z",
     "iopub.status.idle": "2024-10-28T14:49:35.686534Z",
     "shell.execute_reply": "2024-10-28T14:49:35.685674Z"
    },
    "executionInfo": {
     "elapsed": 4,
     "status": "ok",
     "timestamp": 1730120221558,
     "user": {
      "displayName": "César Chalco",
      "userId": "16579770990679984007"
     },
     "user_tz": 300
    },
    "id": "YoVc0cAEXBrc",
    "papermill": {
     "duration": 0.045212,
     "end_time": "2024-10-28T14:49:35.688342",
     "exception": false,
     "start_time": "2024-10-28T14:49:35.643130",
     "status": "completed"
    },
    "tags": []
   },
   "outputs": [],
   "source": [
    "class SentimentClassifier(nn.Module):\n",
    "    def __init__(self, n_classes):\n",
    "        super(SentimentClassifier, self).__init__()\n",
    "        self.bert = AutoModel.from_pretrained(PRE_TRAINED_MODEL_NAME,return_dict=False)\n",
    "        self.drop = nn.Dropout(p = 0.3)\n",
    "        self.out = nn.Linear(self.bert.config.hidden_size, n_classes)\n",
    "\n",
    "    def forward(self, input_ids, attention_mask):\n",
    "        _, pooled_output = self.bert(\n",
    "            input_ids = input_ids,\n",
    "            attention_mask= attention_mask\n",
    "        )\n",
    "        output = self.drop(pooled_output)\n",
    "        return self.out(output)"
   ]
  },
  {
   "cell_type": "code",
   "execution_count": 35,
   "id": "2913e0a6",
   "metadata": {
    "execution": {
     "iopub.execute_input": "2024-10-28T14:49:35.761248Z",
     "iopub.status.busy": "2024-10-28T14:49:35.760927Z",
     "iopub.status.idle": "2024-10-28T14:49:35.765691Z",
     "shell.execute_reply": "2024-10-28T14:49:35.764728Z"
    },
    "executionInfo": {
     "elapsed": 369,
     "status": "ok",
     "timestamp": 1730120221924,
     "user": {
      "displayName": "César Chalco",
      "userId": "16579770990679984007"
     },
     "user_tz": 300
    },
    "id": "Z2fDmz7QXBrd",
    "outputId": "672df461-a0d4-4677-e209-d5d0ede516b2",
    "papermill": {
     "duration": 0.043797,
     "end_time": "2024-10-28T14:49:35.767894",
     "exception": false,
     "start_time": "2024-10-28T14:49:35.724097",
     "status": "completed"
    },
    "tags": []
   },
   "outputs": [
    {
     "name": "stdout",
     "output_type": "stream",
     "text": [
      "Device: cuda:0\n"
     ]
    }
   ],
   "source": [
    "print(f\"Device: {device}\")"
   ]
  },
  {
   "cell_type": "code",
   "execution_count": 36,
   "id": "08cc001d",
   "metadata": {
    "execution": {
     "iopub.execute_input": "2024-10-28T14:49:35.842077Z",
     "iopub.status.busy": "2024-10-28T14:49:35.841694Z",
     "iopub.status.idle": "2024-10-28T14:49:36.344927Z",
     "shell.execute_reply": "2024-10-28T14:49:36.344079Z"
    },
    "executionInfo": {
     "elapsed": 607,
     "status": "ok",
     "timestamp": 1730120962214,
     "user": {
      "displayName": "César Chalco",
      "userId": "16579770990679984007"
     },
     "user_tz": 300
    },
    "id": "mDMd_o87XBrd",
    "papermill": {
     "duration": 0.542982,
     "end_time": "2024-10-28T14:49:36.347242",
     "exception": false,
     "start_time": "2024-10-28T14:49:35.804260",
     "status": "completed"
    },
    "tags": []
   },
   "outputs": [],
   "source": [
    "model = SentimentClassifier(len(class_names))\n",
    "model = model.to(device)"
   ]
  },
  {
   "cell_type": "code",
   "execution_count": 37,
   "id": "73ac39e6",
   "metadata": {
    "execution": {
     "iopub.execute_input": "2024-10-28T14:49:36.421355Z",
     "iopub.status.busy": "2024-10-28T14:49:36.421038Z",
     "iopub.status.idle": "2024-10-28T14:49:36.425647Z",
     "shell.execute_reply": "2024-10-28T14:49:36.424736Z"
    },
    "executionInfo": {
     "elapsed": 1,
     "status": "ok",
     "timestamp": 1730120963138,
     "user": {
      "displayName": "César Chalco",
      "userId": "16579770990679984007"
     },
     "user_tz": 300
    },
    "id": "tMyUIGknXBrd",
    "papermill": {
     "duration": 0.043685,
     "end_time": "2024-10-28T14:49:36.427637",
     "exception": false,
     "start_time": "2024-10-28T14:49:36.383952",
     "status": "completed"
    },
    "tags": []
   },
   "outputs": [],
   "source": [
    "# An evaluation run of the model\n",
    "input_ids = data['input_ids'].to(device)\n",
    "attention_mask = data['attention_mask'].to(device)"
   ]
  },
  {
   "cell_type": "code",
   "execution_count": 38,
   "id": "0e254b16",
   "metadata": {
    "execution": {
     "iopub.execute_input": "2024-10-28T14:49:36.501192Z",
     "iopub.status.busy": "2024-10-28T14:49:36.500887Z",
     "iopub.status.idle": "2024-10-28T14:49:36.934603Z",
     "shell.execute_reply": "2024-10-28T14:49:36.933590Z"
    },
    "executionInfo": {
     "elapsed": 279,
     "status": "ok",
     "timestamp": 1730121403715,
     "user": {
      "displayName": "César Chalco",
      "userId": "16579770990679984007"
     },
     "user_tz": 300
    },
    "id": "yO7zXnuNQzc8",
    "papermill": {
     "duration": 0.473173,
     "end_time": "2024-10-28T14:49:36.937001",
     "exception": false,
     "start_time": "2024-10-28T14:49:36.463828",
     "status": "completed"
    },
    "tags": []
   },
   "outputs": [],
   "source": [
    "logits = model(input_ids, attention_mask)"
   ]
  },
  {
   "cell_type": "code",
   "execution_count": 39,
   "id": "963a78b6",
   "metadata": {
    "execution": {
     "iopub.execute_input": "2024-10-28T14:49:37.011487Z",
     "iopub.status.busy": "2024-10-28T14:49:37.011106Z",
     "iopub.status.idle": "2024-10-28T14:49:37.089025Z",
     "shell.execute_reply": "2024-10-28T14:49:37.088088Z"
    },
    "executionInfo": {
     "elapsed": 294,
     "status": "ok",
     "timestamp": 1730121455025,
     "user": {
      "displayName": "César Chalco",
      "userId": "16579770990679984007"
     },
     "user_tz": 300
    },
    "id": "-xbdoqpNXBrd",
    "papermill": {
     "duration": 0.117594,
     "end_time": "2024-10-28T14:49:37.091194",
     "exception": false,
     "start_time": "2024-10-28T14:49:36.973600",
     "status": "completed"
    },
    "tags": []
   },
   "outputs": [],
   "source": [
    "probs = F.softmax( model(input_ids, attention_mask) , dim = 1)"
   ]
  },
  {
   "cell_type": "code",
   "execution_count": 40,
   "id": "6b15f9fb",
   "metadata": {
    "execution": {
     "iopub.execute_input": "2024-10-28T14:49:37.165438Z",
     "iopub.status.busy": "2024-10-28T14:49:37.165118Z",
     "iopub.status.idle": "2024-10-28T14:49:37.191200Z",
     "shell.execute_reply": "2024-10-28T14:49:37.190279Z"
    },
    "executionInfo": {
     "elapsed": 318,
     "status": "ok",
     "timestamp": 1730121461112,
     "user": {
      "displayName": "César Chalco",
      "userId": "16579770990679984007"
     },
     "user_tz": 300
    },
    "id": "W0A2hYt_RcpG",
    "papermill": {
     "duration": 0.065222,
     "end_time": "2024-10-28T14:49:37.193105",
     "exception": false,
     "start_time": "2024-10-28T14:49:37.127883",
     "status": "completed"
    },
    "tags": []
   },
   "outputs": [],
   "source": [
    "max_values, max_indices = torch.max(probs, dim=1)"
   ]
  },
  {
   "cell_type": "code",
   "execution_count": 41,
   "id": "639620ac",
   "metadata": {
    "execution": {
     "iopub.execute_input": "2024-10-28T14:49:37.266739Z",
     "iopub.status.busy": "2024-10-28T14:49:37.266429Z",
     "iopub.status.idle": "2024-10-28T14:49:37.435915Z",
     "shell.execute_reply": "2024-10-28T14:49:37.434937Z"
    },
    "executionInfo": {
     "elapsed": 330,
     "status": "ok",
     "timestamp": 1730121479140,
     "user": {
      "displayName": "César Chalco",
      "userId": "16579770990679984007"
     },
     "user_tz": 300
    },
    "id": "MqmeCpqAPmbq",
    "outputId": "bc2b66e2-e072-4cb3-a11b-503424237e5c",
    "papermill": {
     "duration": 0.208743,
     "end_time": "2024-10-28T14:49:37.438238",
     "exception": false,
     "start_time": "2024-10-28T14:49:37.229495",
     "status": "completed"
    },
    "tags": []
   },
   "outputs": [
    {
     "name": "stdout",
     "output_type": "stream",
     "text": [
      "Probabilities:\n",
      " tensor([[0.3242, 0.3107, 0.3651],\n",
      "        [0.2899, 0.1697, 0.5404],\n",
      "        [0.2398, 0.3585, 0.4018],\n",
      "        [0.2251, 0.2105, 0.5644],\n",
      "        [0.2434, 0.2635, 0.4930],\n",
      "        [0.2859, 0.3294, 0.3846],\n",
      "        [0.2397, 0.1981, 0.5622],\n",
      "        [0.2057, 0.4346, 0.3597],\n",
      "        [0.1129, 0.2898, 0.5974],\n",
      "        [0.2386, 0.3620, 0.3994],\n",
      "        [0.2083, 0.2349, 0.5568],\n",
      "        [0.2924, 0.2379, 0.4696],\n",
      "        [0.3299, 0.2210, 0.4491],\n",
      "        [0.3884, 0.3104, 0.3012],\n",
      "        [0.2811, 0.1587, 0.5601],\n",
      "        [0.4212, 0.2173, 0.3615]], device='cuda:0', grad_fn=<SoftmaxBackward0>)\n",
      "\n",
      "Selected Max Values:\n",
      " tensor([0.3651, 0.5404, 0.4018, 0.5644, 0.4930, 0.3846, 0.5622, 0.4346, 0.5974,\n",
      "        0.3994, 0.5568, 0.4696, 0.4491, 0.3884, 0.5601, 0.4212],\n",
      "       device='cuda:0', grad_fn=<MaxBackward0>)\n",
      "\n",
      "Indices of Max Values:\n",
      " tensor([2, 2, 2, 2, 2, 2, 2, 1, 2, 2, 2, 2, 2, 0, 2, 0], device='cuda:0')\n"
     ]
    }
   ],
   "source": [
    "print(\"Probabilities:\\n\", probs)\n",
    "print(\"\\nSelected Max Values:\\n\", max_values)\n",
    "print(\"\\nIndices of Max Values:\\n\", max_indices)"
   ]
  },
  {
   "cell_type": "markdown",
   "id": "6dfd1920",
   "metadata": {
    "id": "cwDut0qtZaRC",
    "papermill": {
     "duration": 0.036375,
     "end_time": "2024-10-28T14:49:37.511489",
     "exception": false,
     "start_time": "2024-10-28T14:49:37.475114",
     "status": "completed"
    },
    "tags": []
   },
   "source": [
    "# Training"
   ]
  },
  {
   "cell_type": "markdown",
   "id": "248f41f8",
   "metadata": {
    "id": "jwMuhPvGaOe5",
    "papermill": {
     "duration": 0.037295,
     "end_time": "2024-10-28T14:49:37.584918",
     "exception": false,
     "start_time": "2024-10-28T14:49:37.547623",
     "status": "completed"
    },
    "tags": []
   },
   "source": [
    "### Training Loop Utility Functions"
   ]
  },
  {
   "cell_type": "code",
   "execution_count": 42,
   "id": "80fa3856",
   "metadata": {
    "execution": {
     "iopub.execute_input": "2024-10-28T14:49:37.658485Z",
     "iopub.status.busy": "2024-10-28T14:49:37.658132Z",
     "iopub.status.idle": "2024-10-28T14:49:37.670868Z",
     "shell.execute_reply": "2024-10-28T14:49:37.669972Z"
    },
    "executionInfo": {
     "elapsed": 368,
     "status": "ok",
     "timestamp": 1730120407423,
     "user": {
      "displayName": "César Chalco",
      "userId": "16579770990679984007"
     },
     "user_tz": 300
    },
    "id": "hef1y6ahNI8u",
    "papermill": {
     "duration": 0.051993,
     "end_time": "2024-10-28T14:49:37.672782",
     "exception": false,
     "start_time": "2024-10-28T14:49:37.620789",
     "status": "completed"
    },
    "tags": []
   },
   "outputs": [],
   "source": [
    "from transformers import get_linear_schedule_with_warmup\n",
    "from torch import optim"
   ]
  },
  {
   "cell_type": "code",
   "execution_count": 43,
   "id": "d0ede49b",
   "metadata": {
    "execution": {
     "iopub.execute_input": "2024-10-28T14:49:37.746592Z",
     "iopub.status.busy": "2024-10-28T14:49:37.746256Z",
     "iopub.status.idle": "2024-10-28T14:49:38.202856Z",
     "shell.execute_reply": "2024-10-28T14:49:38.202054Z"
    },
    "executionInfo": {
     "elapsed": 301,
     "status": "ok",
     "timestamp": 1730122728928,
     "user": {
      "displayName": "César Chalco",
      "userId": "16579770990679984007"
     },
     "user_tz": 300
    },
    "id": "9-bgmHUwOEbg",
    "papermill": {
     "duration": 0.4962,
     "end_time": "2024-10-28T14:49:38.205145",
     "exception": false,
     "start_time": "2024-10-28T14:49:37.708945",
     "status": "completed"
    },
    "tags": []
   },
   "outputs": [],
   "source": [
    "EPOCHS = 10\n",
    "\n",
    "optimizer = optim.AdamW(model.parameters(), lr= 2e-5)\n",
    "\n",
    "total_steps = len(train_data_loader) * EPOCHS\n",
    "\n",
    "scheduler = get_linear_schedule_with_warmup(\n",
    "    optimizer,\n",
    "    num_warmup_steps = 0,\n",
    "    num_training_steps=total_steps\n",
    ")\n",
    "\n",
    "loss_fn = nn.CrossEntropyLoss().to(device)"
   ]
  },
  {
   "cell_type": "code",
   "execution_count": 44,
   "id": "efb55042",
   "metadata": {
    "execution": {
     "iopub.execute_input": "2024-10-28T14:49:38.280592Z",
     "iopub.status.busy": "2024-10-28T14:49:38.280090Z",
     "iopub.status.idle": "2024-10-28T14:49:38.287945Z",
     "shell.execute_reply": "2024-10-28T14:49:38.287048Z"
    },
    "executionInfo": {
     "elapsed": 1,
     "status": "ok",
     "timestamp": 1730122729223,
     "user": {
      "displayName": "César Chalco",
      "userId": "16579770990679984007"
     },
     "user_tz": 300
    },
    "id": "1e7rPnFGXBrd",
    "papermill": {
     "duration": 0.047031,
     "end_time": "2024-10-28T14:49:38.289840",
     "exception": false,
     "start_time": "2024-10-28T14:49:38.242809",
     "status": "completed"
    },
    "tags": []
   },
   "outputs": [],
   "source": [
    "def train_epoch(model, data_loader, loss_fn, optimizer, device, scheduler, n_examples):\n",
    "    model=model.train()\n",
    "\n",
    "    losses = []\n",
    "    correct_predictions = 0\n",
    "\n",
    "    for batch in data_loader:\n",
    "        input_ids = batch[\"input_ids\"].to(device)\n",
    "        attention_mask = batch[\"attention_mask\"].to(device)\n",
    "        targets = batch[\"targets\"].to(device)\n",
    "\n",
    "        outputs = model(input_ids=input_ids, attention_mask=attention_mask)\n",
    "        _, preds = torch.max(outputs, dim = 1)\n",
    "        loss = loss_fn(outputs, targets)\n",
    "        correct_predictions += torch.sum(preds == targets).cpu()\n",
    "        losses.append(loss.item())\n",
    "\n",
    "        loss.backward()\n",
    "        nn.utils.clip_grad_norm_(model.parameters(), max_norm=1.0)\n",
    "        optimizer.step()\n",
    "        scheduler.step()\n",
    "        optimizer.zero_grad()\n",
    "\n",
    "    return correct_predictions/n_examples, np.mean(losses)"
   ]
  },
  {
   "cell_type": "code",
   "execution_count": 45,
   "id": "9a2f23a7",
   "metadata": {
    "execution": {
     "iopub.execute_input": "2024-10-28T14:49:38.362921Z",
     "iopub.status.busy": "2024-10-28T14:49:38.362610Z",
     "iopub.status.idle": "2024-10-28T14:49:38.369351Z",
     "shell.execute_reply": "2024-10-28T14:49:38.368491Z"
    },
    "executionInfo": {
     "elapsed": 1,
     "status": "ok",
     "timestamp": 1730122729825,
     "user": {
      "displayName": "César Chalco",
      "userId": "16579770990679984007"
     },
     "user_tz": 300
    },
    "id": "gy5WjmDGOJ7y",
    "papermill": {
     "duration": 0.045347,
     "end_time": "2024-10-28T14:49:38.371179",
     "exception": false,
     "start_time": "2024-10-28T14:49:38.325832",
     "status": "completed"
    },
    "tags": []
   },
   "outputs": [],
   "source": [
    "def eval_model(model, data_loader, loss_fn, device, n_examples):\n",
    "    model = model.eval()\n",
    "    losses = []\n",
    "    correct_predictions = 0\n",
    "\n",
    "    with torch.no_grad():\n",
    "        for d in data_loader:\n",
    "            input_ids = d[\"input_ids\"].to(device)\n",
    "            attention_mask = d[\"attention_mask\"].to(device)\n",
    "            targets = d[\"targets\"].to(device)\n",
    "\n",
    "            outputs = model(input_ids=input_ids, attention_mask=attention_mask)\n",
    "            _,preds = torch.max(outputs, dim = 1)\n",
    "\n",
    "            loss = loss_fn(outputs, targets)\n",
    "            correct_predictions += torch.sum(preds == targets).cpu()\n",
    "            losses.append(loss.item())\n",
    "    return correct_predictions/n_examples, np.mean(losses)"
   ]
  },
  {
   "cell_type": "markdown",
   "id": "99539f8d",
   "metadata": {
    "id": "E6Hy6GbfWMDx",
    "papermill": {
     "duration": 0.035634,
     "end_time": "2024-10-28T14:49:38.442848",
     "exception": false,
     "start_time": "2024-10-28T14:49:38.407214",
     "status": "completed"
    },
    "tags": []
   },
   "source": [
    "## Training Loop"
   ]
  },
  {
   "cell_type": "code",
   "execution_count": 46,
   "id": "544678bd",
   "metadata": {
    "execution": {
     "iopub.execute_input": "2024-10-28T14:49:38.516778Z",
     "iopub.status.busy": "2024-10-28T14:49:38.516449Z",
     "iopub.status.idle": "2024-10-28T15:28:53.822290Z",
     "shell.execute_reply": "2024-10-28T15:28:53.821253Z"
    },
    "executionInfo": {
     "elapsed": 294,
     "status": "ok",
     "timestamp": 1730122731391,
     "user": {
      "displayName": "César Chalco",
      "userId": "16579770990679984007"
     },
     "user_tz": 300
    },
    "id": "04xg3Uk4OLFr",
    "outputId": "4ae57ae2-f129-4779-a6d5-e26746c01677",
    "papermill": {
     "duration": 2355.345974,
     "end_time": "2024-10-28T15:28:53.825260",
     "exception": false,
     "start_time": "2024-10-28T14:49:38.479286",
     "status": "completed"
    },
    "tags": []
   },
   "outputs": [
    {
     "name": "stdout",
     "output_type": "stream",
     "text": [
      "Epoch 1/ 10\n",
      "---------------\n",
      "Train loss 0.7776782665040101 accuracy 0.638134241104126\n",
      "Val loss 0.6611144423484803 accuracy 0.7204574346542358\n",
      "Epoch 2/ 10\n",
      "---------------\n",
      "Train loss 0.5201450474139799 accuracy 0.794227659702301\n",
      "Val loss 0.6268640725314617 accuracy 0.792884349822998\n",
      "Epoch 3/ 10\n",
      "---------------\n",
      "Train loss 0.3296520869188751 accuracy 0.8870933651924133\n",
      "Val loss 0.6460151499882341 accuracy 0.841168999671936\n",
      "Epoch 4/ 10\n",
      "---------------\n",
      "Train loss 0.22888417030699365 accuracy 0.9321148991584778\n",
      "Val loss 0.7147117509692907 accuracy 0.8526048064231873\n",
      "Epoch 5/ 10\n",
      "---------------\n",
      "Train loss 0.1653145800862865 accuracy 0.9563897848129272\n",
      "Val loss 0.7300557118281722 accuracy 0.8602287173271179\n",
      "Epoch 6/ 10\n",
      "---------------\n",
      "Train loss 0.11860143447491397 accuracy 0.9682450294494629\n",
      "Val loss 0.7867152294446714 accuracy 0.8767471313476562\n",
      "Epoch 7/ 10\n",
      "---------------\n",
      "Train loss 0.08928247944346228 accuracy 0.9753016829490662\n",
      "Val loss 0.8735304417728912 accuracy 0.8703938722610474\n",
      "Epoch 8/ 10\n",
      "---------------\n",
      "Train loss 0.07217883473996947 accuracy 0.9782654643058777\n",
      "Val loss 0.8983311507903272 accuracy 0.865311324596405\n",
      "Epoch 9/ 10\n",
      "---------------\n",
      "Train loss 0.05640197330696874 accuracy 0.9832757115364075\n",
      "Val loss 0.9631008479226147 accuracy 0.8678526282310486\n",
      "Epoch 10/ 10\n",
      "---------------\n",
      "Train loss 0.04613375359963921 accuracy 0.9854632616043091\n",
      "Val loss 0.9393604251707438 accuracy 0.8691232800483704\n",
      "CPU times: user 39min 9s, sys: 4.13 s, total: 39min 14s\n",
      "Wall time: 39min 14s\n"
     ]
    },
    {
     "data": {
      "text/plain": [
       "(0.0, 1.0)"
      ]
     },
     "execution_count": 46,
     "metadata": {},
     "output_type": "execute_result"
    },
    {
     "data": {
      "image/png": "[encoded data removed]",
      "text/plain": [
       "<Figure size 1200x800 with 1 Axes>"
      ]
     },
     "metadata": {
      "image/png": {
       "height": 717,
       "width": 1017
      }
     },
     "output_type": "display_data"
    }
   ],
   "source": [
    "%%time\n",
    "history = defaultdict(list)\n",
    "best_accuracy = 0\n",
    "\n",
    "for epoch in range(EPOCHS):\n",
    "    print(f'Epoch {epoch + 1}/ {EPOCHS}')\n",
    "    print('-'*15)\n",
    "    train_acc, train_loss = train_epoch(model, train_data_loader, loss_fn, optimizer, device, scheduler, len(df_train))\n",
    "    print(f'Train loss {train_loss} accuracy {train_acc}')\n",
    "\n",
    "    val_acc, val_loss = eval_model(model, val_data_loader, loss_fn, device, len(df_val))\n",
    "    print(f'Val loss {val_loss} accuracy {val_acc}')\n",
    "\n",
    "    history['train_acc'].append(train_acc)\n",
    "    history['train_loss'].append(train_loss)\n",
    "    history['val_acc'].append(val_acc)\n",
    "    history['val_loss'].append(val_loss)\n",
    "\n",
    "    if val_acc>best_accuracy:\n",
    "        torch.save(model.state_dict(), 'best_model_state.bin')\n",
    "        best_accuracy = val_acc\n",
    "\n",
    "plt.plot(history['train_acc'], label='train accuracy')\n",
    "plt.plot(history['val_acc'], label='validation accuracy')\n",
    "plt.title('Training history')\n",
    "plt.ylabel('Accuracy')\n",
    "plt.xlabel('Epoch')\n",
    "plt.legend()\n",
    "plt.ylim([0,1])"
   ]
  },
  {
   "cell_type": "markdown",
   "id": "2981c3b9",
   "metadata": {
    "papermill": {
     "duration": 0.041058,
     "end_time": "2024-10-28T15:28:53.907302",
     "exception": false,
     "start_time": "2024-10-28T15:28:53.866244",
     "status": "completed"
    },
    "tags": []
   },
   "source": [
    "## Visualizing Training/Validation Losses"
   ]
  },
  {
   "cell_type": "code",
   "execution_count": 47,
   "id": "c8fe0528",
   "metadata": {
    "execution": {
     "iopub.execute_input": "2024-10-28T15:28:53.991301Z",
     "iopub.status.busy": "2024-10-28T15:28:53.990911Z",
     "iopub.status.idle": "2024-10-28T15:28:54.534156Z",
     "shell.execute_reply": "2024-10-28T15:28:54.533173Z"
    },
    "id": "r8FCtCtpOLDS",
    "papermill": {
     "duration": 0.58847,
     "end_time": "2024-10-28T15:28:54.536528",
     "exception": false,
     "start_time": "2024-10-28T15:28:53.948058",
     "status": "completed"
    },
    "tags": []
   },
   "outputs": [
    {
     "data": {
      "image/png": "[encoded data removed]",
      "text/plain": [
       "<Figure size 1200x800 with 1 Axes>"
      ]
     },
     "metadata": {
      "image/png": {
       "height": 717,
       "width": 1017
      }
     },
     "output_type": "display_data"
    }
   ],
   "source": [
    "plt.plot(history['train_loss'], label='train loss',linewidth=3)\n",
    "plt.plot(history['val_loss'], '--',label='validation loss',linewidth=3)\n",
    "\n",
    "plt.title('Loss history')\n",
    "plt.ylabel('Loss')\n",
    "plt.xlabel('Epoch')\n",
    "plt.legend()\n",
    "plt.ylim([0, 1]);"
   ]
  },
  {
   "cell_type": "code",
   "execution_count": 48,
   "id": "43fc32b6",
   "metadata": {
    "execution": {
     "iopub.execute_input": "2024-10-28T15:28:54.622387Z",
     "iopub.status.busy": "2024-10-28T15:28:54.622027Z",
     "iopub.status.idle": "2024-10-28T15:28:58.497029Z",
     "shell.execute_reply": "2024-10-28T15:28:58.496047Z"
    },
    "id": "v2SYA3TSOK6K",
    "papermill": {
     "duration": 3.920051,
     "end_time": "2024-10-28T15:28:58.499267",
     "exception": false,
     "start_time": "2024-10-28T15:28:54.579216",
     "status": "completed"
    },
    "tags": []
   },
   "outputs": [
    {
     "name": "stdout",
     "output_type": "stream",
     "text": [
      "Test Accuracy 0.8845177888870239\n"
     ]
    }
   ],
   "source": [
    "test_acc, _ = eval_model(model, test_data_loader, loss_fn, device, len(df_test))\n",
    "print(f'Test Accuracy {test_acc.item()}')"
   ]
  },
  {
   "cell_type": "markdown",
   "id": "0a3ae932",
   "metadata": {
    "id": "raXL318SOK5L",
    "papermill": {
     "duration": 0.041255,
     "end_time": "2024-10-28T15:28:58.582735",
     "exception": false,
     "start_time": "2024-10-28T15:28:58.541480",
     "status": "completed"
    },
    "tags": []
   },
   "source": [
    "# Model Evaluation"
   ]
  },
  {
   "cell_type": "code",
   "execution_count": 49,
   "id": "a96a5a15",
   "metadata": {
    "execution": {
     "iopub.execute_input": "2024-10-28T15:28:58.667522Z",
     "iopub.status.busy": "2024-10-28T15:28:58.666665Z",
     "iopub.status.idle": "2024-10-28T15:28:58.675044Z",
     "shell.execute_reply": "2024-10-28T15:28:58.674162Z"
    },
    "id": "LmZb73-cOK3k",
    "papermill": {
     "duration": 0.052819,
     "end_time": "2024-10-28T15:28:58.676921",
     "exception": false,
     "start_time": "2024-10-28T15:28:58.624102",
     "status": "completed"
    },
    "tags": []
   },
   "outputs": [],
   "source": [
    "def get_predictions(model, data_loader):\n",
    "    model = model.eval()\n",
    "    review_texts = []\n",
    "    predictions = []\n",
    "    prediction_probs = []\n",
    "    real_values = []\n",
    "\n",
    "    with torch.no_grad():\n",
    "        for d in data_loader:\n",
    "            texts = d[\"review_text\"]\n",
    "            input_ids = d[\"input_ids\"].to(device)\n",
    "            attention_mask = d[\"attention_mask\"].to(device)\n",
    "            targets = d[\"targets\"].to(device)\n",
    "            outputs = model(input_ids = input_ids, attention_mask = attention_mask)\n",
    "            _, preds = torch.max(outputs, dim=1)\n",
    "            probs = F.softmax(outputs, dim =1)\n",
    "            review_texts.extend(texts)\n",
    "            predictions.extend(preds)\n",
    "            prediction_probs.extend(probs)\n",
    "            real_values.extend(targets)\n",
    "    \n",
    "    predictions = torch.stack(predictions).cpu()\n",
    "    prediction_probs = torch.stack(prediction_probs).cpu()\n",
    "    real_values = torch.stack(real_values).cpu()\n",
    "    return review_texts, predictions, prediction_probs, real_values"
   ]
  },
  {
   "cell_type": "code",
   "execution_count": 50,
   "id": "92f4f54d",
   "metadata": {
    "execution": {
     "iopub.execute_input": "2024-10-28T15:28:58.762276Z",
     "iopub.status.busy": "2024-10-28T15:28:58.761938Z",
     "iopub.status.idle": "2024-10-28T15:28:58.767562Z",
     "shell.execute_reply": "2024-10-28T15:28:58.766725Z"
    },
    "id": "SRKUBC0uOK1C",
    "papermill": {
     "duration": 0.050974,
     "end_time": "2024-10-28T15:28:58.769365",
     "exception": false,
     "start_time": "2024-10-28T15:28:58.718391",
     "status": "completed"
    },
    "tags": []
   },
   "outputs": [],
   "source": [
    "def show_confusion_matrix(confusion_matrix):\n",
    "    hmap = sns.heatmap(confusion_matrix, annot=True, fmt=\"d\", cmap=\"Blues\")\n",
    "    hmap.yaxis.set_ticklabels(hmap.yaxis.get_ticklabels(), rotation = 0, ha='right')\n",
    "    hmap.xaxis.set_ticklabels(hmap.xaxis.get_ticklabels(), rotation = 30, ha='right')\n",
    "    plt.ylabel('True Sentiment')\n",
    "    plt.xlabel('Predicted Sentiment')"
   ]
  },
  {
   "cell_type": "code",
   "execution_count": 51,
   "id": "9a017ec2",
   "metadata": {
    "execution": {
     "iopub.execute_input": "2024-10-28T15:28:58.854430Z",
     "iopub.status.busy": "2024-10-28T15:28:58.854077Z",
     "iopub.status.idle": "2024-10-28T15:29:02.438838Z",
     "shell.execute_reply": "2024-10-28T15:29:02.437481Z"
    },
    "papermill": {
     "duration": 3.629445,
     "end_time": "2024-10-28T15:29:02.440864",
     "exception": false,
     "start_time": "2024-10-28T15:28:58.811419",
     "status": "completed"
    },
    "tags": []
   },
   "outputs": [
    {
     "name": "stdout",
     "output_type": "stream",
     "text": [
      "              precision    recall  f1-score   support\n",
      "\n",
      "    negative       0.92      0.85      0.89       245\n",
      "     neutral       0.82      0.88      0.85       254\n",
      "    positive       0.92      0.92      0.92       289\n",
      "\n",
      "    accuracy                           0.88       788\n",
      "   macro avg       0.89      0.88      0.88       788\n",
      "weighted avg       0.89      0.88      0.89       788\n",
      "\n"
     ]
    }
   ],
   "source": [
    "y_review_texts, y_pred, y_pred_probs, y_test = get_predictions(model, test_data_loader)\n",
    "print(classification_report(y_test, y_pred, target_names=class_names))"
   ]
  },
  {
   "cell_type": "code",
   "execution_count": 52,
   "id": "dcd386cd",
   "metadata": {
    "execution": {
     "iopub.execute_input": "2024-10-28T15:29:02.525905Z",
     "iopub.status.busy": "2024-10-28T15:29:02.525563Z",
     "iopub.status.idle": "2024-10-28T15:29:03.145513Z",
     "shell.execute_reply": "2024-10-28T15:29:03.144592Z"
    },
    "papermill": {
     "duration": 0.664577,
     "end_time": "2024-10-28T15:29:03.147668",
     "exception": false,
     "start_time": "2024-10-28T15:29:02.483091",
     "status": "completed"
    },
    "tags": []
   },
   "outputs": [
    {
     "data": {
      "image/png": "[encoded data removed]",
      "text/plain": [
       "<Figure size 1200x800 with 2 Axes>"
      ]
     },
     "metadata": {
      "image/png": {
       "height": 730,
       "width": 1008
      }
     },
     "output_type": "display_data"
    }
   ],
   "source": [
    "cm = confusion_matrix(y_test, y_pred)\n",
    "df_cm = pd.DataFrame(cm, index=class_names, columns = class_names)\n",
    "show_confusion_matrix(df_cm)"
   ]
  },
  {
   "cell_type": "code",
   "execution_count": 53,
   "id": "3046e34c",
   "metadata": {
    "execution": {
     "iopub.execute_input": "2024-10-28T15:29:03.237735Z",
     "iopub.status.busy": "2024-10-28T15:29:03.236866Z",
     "iopub.status.idle": "2024-10-28T15:29:03.244316Z",
     "shell.execute_reply": "2024-10-28T15:29:03.243391Z"
    },
    "papermill": {
     "duration": 0.054562,
     "end_time": "2024-10-28T15:29:03.246541",
     "exception": false,
     "start_time": "2024-10-28T15:29:03.191979",
     "status": "completed"
    },
    "tags": []
   },
   "outputs": [
    {
     "name": "stdout",
     "output_type": "stream",
     "text": [
      "I used to use Habitica, and I must say this is a great step up. I'd\n",
      "like to see more social features, such as sharing tasks - only one\n",
      "person has to perform said task for it to be checked off, but only\n",
      "giving that person the experience and gold. Otherwise, the price for\n",
      "subscription is too steep, thus resulting in a sub-perfect score. I\n",
      "could easily justify $0.99/month or eternal subscription for $15. If\n",
      "that price could be met, as well as fine tuning, this would be easily\n",
      "worth 5 stars.\n",
      "\n",
      "True Sentiment: neutral\n"
     ]
    }
   ],
   "source": [
    "idx = 2\n",
    "review_text = y_review_texts[idx]\n",
    "true_sentiment = y_test[idx]\n",
    "pred_df = pd.DataFrame({'class_names':class_names, 'values':y_pred_probs[idx]})\n",
    "print(\"\\n\".join(wrap(review_text)))\n",
    "print()\n",
    "print(f'True Sentiment: {class_names[true_sentiment]}')"
   ]
  },
  {
   "cell_type": "code",
   "execution_count": 54,
   "id": "e310aa8b",
   "metadata": {
    "execution": {
     "iopub.execute_input": "2024-10-28T15:29:03.334123Z",
     "iopub.status.busy": "2024-10-28T15:29:03.333323Z",
     "iopub.status.idle": "2024-10-28T15:29:03.848540Z",
     "shell.execute_reply": "2024-10-28T15:29:03.847601Z"
    },
    "papermill": {
     "duration": 0.561234,
     "end_time": "2024-10-28T15:29:03.850729",
     "exception": false,
     "start_time": "2024-10-28T15:29:03.289495",
     "status": "completed"
    },
    "tags": []
   },
   "outputs": [
    {
     "data": {
      "text/plain": [
       "(0.0, 1.0)"
      ]
     },
     "execution_count": 54,
     "metadata": {},
     "output_type": "execute_result"
    },
    {
     "data": {
      "image/png": "[encoded data removed]",
      "text/plain": [
       "<Figure size 1200x800 with 1 Axes>"
      ]
     },
     "metadata": {
      "image/png": {
       "height": 693,
       "width": 1083
      }
     },
     "output_type": "display_data"
    }
   ],
   "source": [
    "sns.barplot(x='values', y='class_names', data=pred_df, orient='h')\n",
    "plt.ylabel('sentiment')\n",
    "plt.xlabel('probability')\n",
    "plt.xlim([0,1])"
   ]
  },
  {
   "cell_type": "code",
   "execution_count": 55,
   "id": "f7af0ab4",
   "metadata": {
    "execution": {
     "iopub.execute_input": "2024-10-28T15:29:03.941772Z",
     "iopub.status.busy": "2024-10-28T15:29:03.941458Z",
     "iopub.status.idle": "2024-10-28T15:29:03.986380Z",
     "shell.execute_reply": "2024-10-28T15:29:03.985473Z"
    },
    "papermill": {
     "duration": 0.092073,
     "end_time": "2024-10-28T15:29:03.988533",
     "exception": false,
     "start_time": "2024-10-28T15:29:03.896460",
     "status": "completed"
    },
    "tags": []
   },
   "outputs": [],
   "source": [
    "review_text = \"I love completing my todos! Best app ever!!!\"\n",
    "encoded_review = tokenizer.encode_plus(\n",
    "    text=review_text,\n",
    "    max_length=MAX_LEN,\n",
    "    add_special_tokens=True,\n",
    "    return_token_type_ids=False,\n",
    "    padding='max_length',\n",
    "    return_attention_mask=True,\n",
    "    truncation=True,\n",
    "    return_tensors='pt'\n",
    ")\n",
    "\n",
    "input_ids = encoded_review['input_ids'].to(device)\n",
    "attention_mask=encoded_review['attention_mask'].to(device)\n",
    "output = model(input_ids, attention_mask)\n",
    "_,prediction = torch.max(output, dim=1)"
   ]
  },
  {
   "cell_type": "code",
   "execution_count": 56,
   "id": "030864fc",
   "metadata": {
    "execution": {
     "iopub.execute_input": "2024-10-28T15:29:04.077878Z",
     "iopub.status.busy": "2024-10-28T15:29:04.077537Z",
     "iopub.status.idle": "2024-10-28T15:29:04.082588Z",
     "shell.execute_reply": "2024-10-28T15:29:04.081558Z"
    },
    "papermill": {
     "duration": 0.051898,
     "end_time": "2024-10-28T15:29:04.084487",
     "exception": false,
     "start_time": "2024-10-28T15:29:04.032589",
     "status": "completed"
    },
    "tags": []
   },
   "outputs": [
    {
     "name": "stdout",
     "output_type": "stream",
     "text": [
      "Review text: I love completing my todos! Best app ever!!!\n",
      "Sentiment  : positive\n"
     ]
    }
   ],
   "source": [
    "print(f'Review text: {review_text}')\n",
    "print(f'Sentiment  : {class_names[prediction]}')"
   ]
  }
 ],
 "metadata": {
  "accelerator": "GPU",
  "colab": {
   "gpuType": "T4",
   "provenance": []
  },
  "kaggle": {
   "accelerator": "gpu",
   "dataSources": [
    {
     "datasetId": 5965572,
     "sourceId": 9745017,
     "sourceType": "datasetVersion"
    }
   ],
   "dockerImageVersionId": 30787,
   "isGpuEnabled": true,
   "isInternetEnabled": true,
   "language": "python",
   "sourceType": "notebook"
  },
  "kernelspec": {
   "display_name": "Python 3",
   "language": "python",
   "name": "python3"
  },
  "language_info": {
   "codemirror_mode": {
    "name": "ipython",
    "version": 3
   },
   "file_extension": ".py",
   "mimetype": "text/x-python",
   "name": "python",
   "nbconvert_exporter": "python",
   "pygments_lexer": "ipython3",
   "version": "3.10.14"
  },
  "papermill": {
   "default_parameters": {},
   "duration": 2393.397617,
   "end_time": "2024-10-28T15:29:05.651837",
   "environment_variables": {},
   "exception": null,
   "input_path": "__notebook__.ipynb",
   "output_path": "__notebook__.ipynb",
   "parameters": {},
   "start_time": "2024-10-28T14:49:12.254220",
   "version": "2.6.0"
  },
  "widgets": {
   "application/vnd.jupyter.widget-state+json": {
    "state": {
     "0294b1b6d8f343b2bcc67e8ffd6c8c98": {
      "model_module": "@jupyter-widgets/controls",
      "model_module_version": "1.5.0",
      "model_name": "DescriptionStyleModel",
      "state": {
       "_model_module": "@jupyter-widgets/controls",
       "_model_module_version": "1.5.0",
       "_model_name": "DescriptionStyleModel",
       "_view_count": null,
       "_view_module": "@jupyter-widgets/base",
       "_view_module_version": "1.2.0",
       "_view_name": "StyleView",
       "description_width": ""
      }
     },
     "06ee7e9e2fd24f04a5acee124ba931af": {
      "model_module": "@jupyter-widgets/base",
      "model_module_version": "1.2.0",
      "model_name": "LayoutModel",
      "state": {
       "_model_module": "@jupyter-widgets/base",
       "_model_module_version": "1.2.0",
       "_model_name": "LayoutModel",
       "_view_count": null,
       "_view_module": "@jupyter-widgets/base",
       "_view_module_version": "1.2.0",
       "_view_name": "LayoutView",
       "align_content": null,
       "align_items": null,
       "align_self": null,
       "border": null,
       "bottom": null,
       "display": null,
       "flex": null,
       "flex_flow": null,
       "grid_area": null,
       "grid_auto_columns": null,
       "grid_auto_flow": null,
       "grid_auto_rows": null,
       "grid_column": null,
       "grid_gap": null,
       "grid_row": null,
       "grid_template_areas": null,
       "grid_template_columns": null,
       "grid_template_rows": null,
       "height": null,
       "justify_content": null,
       "justify_items": null,
       "left": null,
       "margin": null,
       "max_height": null,
       "max_width": null,
       "min_height": null,
       "min_width": null,
       "object_fit": null,
       "object_position": null,
       "order": null,
       "overflow": null,
       "overflow_x": null,
       "overflow_y": null,
       "padding": null,
       "right": null,
       "top": null,
       "visibility": null,
       "width": null
      }
     },
     "087183bc5dcf4ee58d2891d130dcd865": {
      "model_module": "@jupyter-widgets/controls",
      "model_module_version": "1.5.0",
      "model_name": "DescriptionStyleModel",
      "state": {
       "_model_module": "@jupyter-widgets/controls",
       "_model_module_version": "1.5.0",
       "_model_name": "DescriptionStyleModel",
       "_view_count": null,
       "_view_module": "@jupyter-widgets/base",
       "_view_module_version": "1.2.0",
       "_view_name": "StyleView",
       "description_width": ""
      }
     },
     "0dfa183c796645c69e770fbe5cb7b094": {
      "model_module": "@jupyter-widgets/controls",
      "model_module_version": "1.5.0",
      "model_name": "FloatProgressModel",
      "state": {
       "_dom_classes": [],
       "_model_module": "@jupyter-widgets/controls",
       "_model_module_version": "1.5.0",
       "_model_name": "FloatProgressModel",
       "_view_count": null,
       "_view_module": "@jupyter-widgets/controls",
       "_view_module_version": "1.5.0",
       "_view_name": "ProgressView",
       "bar_style": "success",
       "description": "",
       "description_tooltip": null,
       "layout": "IPY_MODEL_06ee7e9e2fd24f04a5acee124ba931af",
       "max": 435755784.0,
       "min": 0.0,
       "orientation": "horizontal",
       "style": "IPY_MODEL_f6f5c1be366f4414b30f0af7e74b895a",
       "value": 435755784.0
      }
     },
     "12196596ffcc4865ba64a48b39a01a63": {
      "model_module": "@jupyter-widgets/base",
      "model_module_version": "1.2.0",
      "model_name": "LayoutModel",
      "state": {
       "_model_module": "@jupyter-widgets/base",
       "_model_module_version": "1.2.0",
       "_model_name": "LayoutModel",
       "_view_count": null,
       "_view_module": "@jupyter-widgets/base",
       "_view_module_version": "1.2.0",
       "_view_name": "LayoutView",
       "align_content": null,
       "align_items": null,
       "align_self": null,
       "border": null,
       "bottom": null,
       "display": null,
       "flex": null,
       "flex_flow": null,
       "grid_area": null,
       "grid_auto_columns": null,
       "grid_auto_flow": null,
       "grid_auto_rows": null,
       "grid_column": null,
       "grid_gap": null,
       "grid_row": null,
       "grid_template_areas": null,
       "grid_template_columns": null,
       "grid_template_rows": null,
       "height": null,
       "justify_content": null,
       "justify_items": null,
       "left": null,
       "margin": null,
       "max_height": null,
       "max_width": null,
       "min_height": null,
       "min_width": null,
       "object_fit": null,
       "object_position": null,
       "order": null,
       "overflow": null,
       "overflow_x": null,
       "overflow_y": null,
       "padding": null,
       "right": null,
       "top": null,
       "visibility": null,
       "width": null
      }
     },
     "13da6d839afd4664923777fbd9176e98": {
      "model_module": "@jupyter-widgets/controls",
      "model_module_version": "1.5.0",
      "model_name": "HBoxModel",
      "state": {
       "_dom_classes": [],
       "_model_module": "@jupyter-widgets/controls",
       "_model_module_version": "1.5.0",
       "_model_name": "HBoxModel",
       "_view_count": null,
       "_view_module": "@jupyter-widgets/controls",
       "_view_module_version": "1.5.0",
       "_view_name": "HBoxView",
       "box_style": "",
       "children": [
        "IPY_MODEL_3fb2deed92c84a9c8188b272970ee859",
        "IPY_MODEL_ceadc4a02de949948feefee8d4a369ce",
        "IPY_MODEL_973b9cf9210f4365bcfd5d0a75189c33"
       ],
       "layout": "IPY_MODEL_1449bf7735c64c7eabec80a4bd62ed94"
      }
     },
     "1449bf7735c64c7eabec80a4bd62ed94": {
      "model_module": "@jupyter-widgets/base",
      "model_module_version": "1.2.0",
      "model_name": "LayoutModel",
      "state": {
       "_model_module": "@jupyter-widgets/base",
       "_model_module_version": "1.2.0",
       "_model_name": "LayoutModel",
       "_view_count": null,
       "_view_module": "@jupyter-widgets/base",
       "_view_module_version": "1.2.0",
       "_view_name": "LayoutView",
       "align_content": null,
       "align_items": null,
       "align_self": null,
       "border": null,
       "bottom": null,
       "display": null,
       "flex": null,
       "flex_flow": null,
       "grid_area": null,
       "grid_auto_columns": null,
       "grid_auto_flow": null,
       "grid_auto_rows": null,
       "grid_column": null,
       "grid_gap": null,
       "grid_row": null,
       "grid_template_areas": null,
       "grid_template_columns": null,
       "grid_template_rows": null,
       "height": null,
       "justify_content": null,
       "justify_items": null,
       "left": null,
       "margin": null,
       "max_height": null,
       "max_width": null,
       "min_height": null,
       "min_width": null,
       "object_fit": null,
       "object_position": null,
       "order": null,
       "overflow": null,
       "overflow_x": null,
       "overflow_y": null,
       "padding": null,
       "right": null,
       "top": null,
       "visibility": null,
       "width": null
      }
     },
     "1698c3b13a2c47a3998454079d029f93": {
      "model_module": "@jupyter-widgets/base",
      "model_module_version": "1.2.0",
      "model_name": "LayoutModel",
      "state": {
       "_model_module": "@jupyter-widgets/base",
       "_model_module_version": "1.2.0",
       "_model_name": "LayoutModel",
       "_view_count": null,
       "_view_module": "@jupyter-widgets/base",
       "_view_module_version": "1.2.0",
       "_view_name": "LayoutView",
       "align_content": null,
       "align_items": null,
       "align_self": null,
       "border": null,
       "bottom": null,
       "display": null,
       "flex": null,
       "flex_flow": null,
       "grid_area": null,
       "grid_auto_columns": null,
       "grid_auto_flow": null,
       "grid_auto_rows": null,
       "grid_column": null,
       "grid_gap": null,
       "grid_row": null,
       "grid_template_areas": null,
       "grid_template_columns": null,
       "grid_template_rows": null,
       "height": null,
       "justify_content": null,
       "justify_items": null,
       "left": null,
       "margin": null,
       "max_height": null,
       "max_width": null,
       "min_height": null,
       "min_width": null,
       "object_fit": null,
       "object_position": null,
       "order": null,
       "overflow": null,
       "overflow_x": null,
       "overflow_y": null,
       "padding": null,
       "right": null,
       "top": null,
       "visibility": null,
       "width": null
      }
     },
     "16ed4822b99140d2ad7871e48b186cfc": {
      "model_module": "@jupyter-widgets/base",
      "model_module_version": "1.2.0",
      "model_name": "LayoutModel",
      "state": {
       "_model_module": "@jupyter-widgets/base",
       "_model_module_version": "1.2.0",
       "_model_name": "LayoutModel",
       "_view_count": null,
       "_view_module": "@jupyter-widgets/base",
       "_view_module_version": "1.2.0",
       "_view_name": "LayoutView",
       "align_content": null,
       "align_items": null,
       "align_self": null,
       "border": null,
       "bottom": null,
       "display": null,
       "flex": null,
       "flex_flow": null,
       "grid_area": null,
       "grid_auto_columns": null,
       "grid_auto_flow": null,
       "grid_auto_rows": null,
       "grid_column": null,
       "grid_gap": null,
       "grid_row": null,
       "grid_template_areas": null,
       "grid_template_columns": null,
       "grid_template_rows": null,
       "height": null,
       "justify_content": null,
       "justify_items": null,
       "left": null,
       "margin": null,
       "max_height": null,
       "max_width": null,
       "min_height": null,
       "min_width": null,
       "object_fit": null,
       "object_position": null,
       "order": null,
       "overflow": null,
       "overflow_x": null,
       "overflow_y": null,
       "padding": null,
       "right": null,
       "top": null,
       "visibility": null,
       "width": null
      }
     },
     "26154bcaa5c74f36bce54f2b7c5761d3": {
      "model_module": "@jupyter-widgets/controls",
      "model_module_version": "1.5.0",
      "model_name": "DescriptionStyleModel",
      "state": {
       "_model_module": "@jupyter-widgets/controls",
       "_model_module_version": "1.5.0",
       "_model_name": "DescriptionStyleModel",
       "_view_count": null,
       "_view_module": "@jupyter-widgets/base",
       "_view_module_version": "1.2.0",
       "_view_name": "StyleView",
       "description_width": ""
      }
     },
     "2bab5c1aef1a44a6b19df9f6bdd3e669": {
      "model_module": "@jupyter-widgets/controls",
      "model_module_version": "1.5.0",
      "model_name": "FloatProgressModel",
      "state": {
       "_dom_classes": [],
       "_model_module": "@jupyter-widgets/controls",
       "_model_module_version": "1.5.0",
       "_model_name": "FloatProgressModel",
       "_view_count": null,
       "_view_module": "@jupyter-widgets/controls",
       "_view_module_version": "1.5.0",
       "_view_name": "ProgressView",
       "bar_style": "success",
       "description": "",
       "description_tooltip": null,
       "layout": "IPY_MODEL_b314e13d894947eeb5f5c04665b6db90",
       "max": 570.0,
       "min": 0.0,
       "orientation": "horizontal",
       "style": "IPY_MODEL_d23a7a5bf3d54730bcb6b3a4b1c113a2",
       "value": 570.0
      }
     },
     "2c0da2d29ea847f9a20bb90b94bbd38e": {
      "model_module": "@jupyter-widgets/controls",
      "model_module_version": "1.5.0",
      "model_name": "HTMLModel",
      "state": {
       "_dom_classes": [],
       "_model_module": "@jupyter-widgets/controls",
       "_model_module_version": "1.5.0",
       "_model_name": "HTMLModel",
       "_view_count": null,
       "_view_module": "@jupyter-widgets/controls",
       "_view_module_version": "1.5.0",
       "_view_name": "HTMLView",
       "description": "",
       "description_tooltip": null,
       "layout": "IPY_MODEL_1698c3b13a2c47a3998454079d029f93",
       "placeholder": "​",
       "style": "IPY_MODEL_de30ae07d5614f1b9dbbaa6715afb221",
       "value": " 213k/213k [00:00&lt;00:00, 8.16MB/s]"
      }
     },
     "2c64437ea1b646bdb3867f3e1ad04ae9": {
      "model_module": "@jupyter-widgets/controls",
      "model_module_version": "1.5.0",
      "model_name": "HTMLModel",
      "state": {
       "_dom_classes": [],
       "_model_module": "@jupyter-widgets/controls",
       "_model_module_version": "1.5.0",
       "_model_name": "HTMLModel",
       "_view_count": null,
       "_view_module": "@jupyter-widgets/controls",
       "_view_module_version": "1.5.0",
       "_view_name": "HTMLView",
       "description": "",
       "description_tooltip": null,
       "layout": "IPY_MODEL_df1a1dc7c26342679ded3082a0ad4ccc",
       "placeholder": "​",
       "style": "IPY_MODEL_6e42523c861945f095f22b334bbc6aa8",
       "value": "vocab.txt: 100%"
      }
     },
     "2d33961f8327401fba1cef49c40f0c24": {
      "model_module": "@jupyter-widgets/controls",
      "model_module_version": "1.5.0",
      "model_name": "DescriptionStyleModel",
      "state": {
       "_model_module": "@jupyter-widgets/controls",
       "_model_module_version": "1.5.0",
       "_model_name": "DescriptionStyleModel",
       "_view_count": null,
       "_view_module": "@jupyter-widgets/base",
       "_view_module_version": "1.2.0",
       "_view_name": "StyleView",
       "description_width": ""
      }
     },
     "2e699467f8d447a9b0e48d8caa12a11d": {
      "model_module": "@jupyter-widgets/controls",
      "model_module_version": "1.5.0",
      "model_name": "HTMLModel",
      "state": {
       "_dom_classes": [],
       "_model_module": "@jupyter-widgets/controls",
       "_model_module_version": "1.5.0",
       "_model_name": "HTMLModel",
       "_view_count": null,
       "_view_module": "@jupyter-widgets/controls",
       "_view_module_version": "1.5.0",
       "_view_name": "HTMLView",
       "description": "",
       "description_tooltip": null,
       "layout": "IPY_MODEL_7dc4fcc536164aefbe1d3039e0a12bfd",
       "placeholder": "​",
       "style": "IPY_MODEL_26154bcaa5c74f36bce54f2b7c5761d3",
       "value": "config.json: 100%"
      }
     },
     "31f9c71ec5544789badef539fd629801": {
      "model_module": "@jupyter-widgets/base",
      "model_module_version": "1.2.0",
      "model_name": "LayoutModel",
      "state": {
       "_model_module": "@jupyter-widgets/base",
       "_model_module_version": "1.2.0",
       "_model_name": "LayoutModel",
       "_view_count": null,
       "_view_module": "@jupyter-widgets/base",
       "_view_module_version": "1.2.0",
       "_view_name": "LayoutView",
       "align_content": null,
       "align_items": null,
       "align_self": null,
       "border": null,
       "bottom": null,
       "display": null,
       "flex": null,
       "flex_flow": null,
       "grid_area": null,
       "grid_auto_columns": null,
       "grid_auto_flow": null,
       "grid_auto_rows": null,
       "grid_column": null,
       "grid_gap": null,
       "grid_row": null,
       "grid_template_areas": null,
       "grid_template_columns": null,
       "grid_template_rows": null,
       "height": null,
       "justify_content": null,
       "justify_items": null,
       "left": null,
       "margin": null,
       "max_height": null,
       "max_width": null,
       "min_height": null,
       "min_width": null,
       "object_fit": null,
       "object_position": null,
       "order": null,
       "overflow": null,
       "overflow_x": null,
       "overflow_y": null,
       "padding": null,
       "right": null,
       "top": null,
       "visibility": null,
       "width": null
      }
     },
     "385d74862e7f461083859e4fd91e3ba9": {
      "model_module": "@jupyter-widgets/base",
      "model_module_version": "1.2.0",
      "model_name": "LayoutModel",
      "state": {
       "_model_module": "@jupyter-widgets/base",
       "_model_module_version": "1.2.0",
       "_model_name": "LayoutModel",
       "_view_count": null,
       "_view_module": "@jupyter-widgets/base",
       "_view_module_version": "1.2.0",
       "_view_name": "LayoutView",
       "align_content": null,
       "align_items": null,
       "align_self": null,
       "border": null,
       "bottom": null,
       "display": null,
       "flex": null,
       "flex_flow": null,
       "grid_area": null,
       "grid_auto_columns": null,
       "grid_auto_flow": null,
       "grid_auto_rows": null,
       "grid_column": null,
       "grid_gap": null,
       "grid_row": null,
       "grid_template_areas": null,
       "grid_template_columns": null,
       "grid_template_rows": null,
       "height": null,
       "justify_content": null,
       "justify_items": null,
       "left": null,
       "margin": null,
       "max_height": null,
       "max_width": null,
       "min_height": null,
       "min_width": null,
       "object_fit": null,
       "object_position": null,
       "order": null,
       "overflow": null,
       "overflow_x": null,
       "overflow_y": null,
       "padding": null,
       "right": null,
       "top": null,
       "visibility": null,
       "width": null
      }
     },
     "3fb2deed92c84a9c8188b272970ee859": {
      "model_module": "@jupyter-widgets/controls",
      "model_module_version": "1.5.0",
      "model_name": "HTMLModel",
      "state": {
       "_dom_classes": [],
       "_model_module": "@jupyter-widgets/controls",
       "_model_module_version": "1.5.0",
       "_model_name": "HTMLModel",
       "_view_count": null,
       "_view_module": "@jupyter-widgets/controls",
       "_view_module_version": "1.5.0",
       "_view_name": "HTMLView",
       "description": "",
       "description_tooltip": null,
       "layout": "IPY_MODEL_75fa6732e569403f8fb78459941496e0",
       "placeholder": "​",
       "style": "IPY_MODEL_0294b1b6d8f343b2bcc67e8ffd6c8c98",
       "value": "tokenizer.json: 100%"
      }
     },
     "4182812da71745e19f8c70a036ab477d": {
      "model_module": "@jupyter-widgets/controls",
      "model_module_version": "1.5.0",
      "model_name": "ProgressStyleModel",
      "state": {
       "_model_module": "@jupyter-widgets/controls",
       "_model_module_version": "1.5.0",
       "_model_name": "ProgressStyleModel",
       "_view_count": null,
       "_view_module": "@jupyter-widgets/base",
       "_view_module_version": "1.2.0",
       "_view_name": "StyleView",
       "bar_color": null,
       "description_width": ""
      }
     },
     "4245f11346654234a19528aab9edb1cd": {
      "model_module": "@jupyter-widgets/base",
      "model_module_version": "1.2.0",
      "model_name": "LayoutModel",
      "state": {
       "_model_module": "@jupyter-widgets/base",
       "_model_module_version": "1.2.0",
       "_model_name": "LayoutModel",
       "_view_count": null,
       "_view_module": "@jupyter-widgets/base",
       "_view_module_version": "1.2.0",
       "_view_name": "LayoutView",
       "align_content": null,
       "align_items": null,
       "align_self": null,
       "border": null,
       "bottom": null,
       "display": null,
       "flex": null,
       "flex_flow": null,
       "grid_area": null,
       "grid_auto_columns": null,
       "grid_auto_flow": null,
       "grid_auto_rows": null,
       "grid_column": null,
       "grid_gap": null,
       "grid_row": null,
       "grid_template_areas": null,
       "grid_template_columns": null,
       "grid_template_rows": null,
       "height": null,
       "justify_content": null,
       "justify_items": null,
       "left": null,
       "margin": null,
       "max_height": null,
       "max_width": null,
       "min_height": null,
       "min_width": null,
       "object_fit": null,
       "object_position": null,
       "order": null,
       "overflow": null,
       "overflow_x": null,
       "overflow_y": null,
       "padding": null,
       "right": null,
       "top": null,
       "visibility": null,
       "width": null
      }
     },
     "42cb243b05a84775ac09382df28fac7f": {
      "model_module": "@jupyter-widgets/controls",
      "model_module_version": "1.5.0",
      "model_name": "HTMLModel",
      "state": {
       "_dom_classes": [],
       "_model_module": "@jupyter-widgets/controls",
       "_model_module_version": "1.5.0",
       "_model_name": "HTMLModel",
       "_view_count": null,
       "_view_module": "@jupyter-widgets/controls",
       "_view_module_version": "1.5.0",
       "_view_name": "HTMLView",
       "description": "",
       "description_tooltip": null,
       "layout": "IPY_MODEL_5f47a05aacb64056a453bb19d74b36af",
       "placeholder": "​",
       "style": "IPY_MODEL_a457f803f217441aad8f0f16649c399e",
       "value": "tokenizer_config.json: 100%"
      }
     },
     "4a08670eef43444cb150d7679afc5a6f": {
      "model_module": "@jupyter-widgets/controls",
      "model_module_version": "1.5.0",
      "model_name": "DescriptionStyleModel",
      "state": {
       "_model_module": "@jupyter-widgets/controls",
       "_model_module_version": "1.5.0",
       "_model_name": "DescriptionStyleModel",
       "_view_count": null,
       "_view_module": "@jupyter-widgets/base",
       "_view_module_version": "1.2.0",
       "_view_name": "StyleView",
       "description_width": ""
      }
     },
     "58a03ec3735f406c8cce301ed37db07c": {
      "model_module": "@jupyter-widgets/controls",
      "model_module_version": "1.5.0",
      "model_name": "HTMLModel",
      "state": {
       "_dom_classes": [],
       "_model_module": "@jupyter-widgets/controls",
       "_model_module_version": "1.5.0",
       "_model_name": "HTMLModel",
       "_view_count": null,
       "_view_module": "@jupyter-widgets/controls",
       "_view_module_version": "1.5.0",
       "_view_name": "HTMLView",
       "description": "",
       "description_tooltip": null,
       "layout": "IPY_MODEL_8ce9285ea24a4faa986fc02f0278dc44",
       "placeholder": "​",
       "style": "IPY_MODEL_4a08670eef43444cb150d7679afc5a6f",
       "value": "model.safetensors: 100%"
      }
     },
     "5f47a05aacb64056a453bb19d74b36af": {
      "model_module": "@jupyter-widgets/base",
      "model_module_version": "1.2.0",
      "model_name": "LayoutModel",
      "state": {
       "_model_module": "@jupyter-widgets/base",
       "_model_module_version": "1.2.0",
       "_model_name": "LayoutModel",
       "_view_count": null,
       "_view_module": "@jupyter-widgets/base",
       "_view_module_version": "1.2.0",
       "_view_name": "LayoutView",
       "align_content": null,
       "align_items": null,
       "align_self": null,
       "border": null,
       "bottom": null,
       "display": null,
       "flex": null,
       "flex_flow": null,
       "grid_area": null,
       "grid_auto_columns": null,
       "grid_auto_flow": null,
       "grid_auto_rows": null,
       "grid_column": null,
       "grid_gap": null,
       "grid_row": null,
       "grid_template_areas": null,
       "grid_template_columns": null,
       "grid_template_rows": null,
       "height": null,
       "justify_content": null,
       "justify_items": null,
       "left": null,
       "margin": null,
       "max_height": null,
       "max_width": null,
       "min_height": null,
       "min_width": null,
       "object_fit": null,
       "object_position": null,
       "order": null,
       "overflow": null,
       "overflow_x": null,
       "overflow_y": null,
       "padding": null,
       "right": null,
       "top": null,
       "visibility": null,
       "width": null
      }
     },
     "654a8f553bd141b3b111b2e6ae42487c": {
      "model_module": "@jupyter-widgets/controls",
      "model_module_version": "1.5.0",
      "model_name": "HBoxModel",
      "state": {
       "_dom_classes": [],
       "_model_module": "@jupyter-widgets/controls",
       "_model_module_version": "1.5.0",
       "_model_name": "HBoxModel",
       "_view_count": null,
       "_view_module": "@jupyter-widgets/controls",
       "_view_module_version": "1.5.0",
       "_view_name": "HBoxView",
       "box_style": "",
       "children": [
        "IPY_MODEL_42cb243b05a84775ac09382df28fac7f",
        "IPY_MODEL_c6eca57a43f7418b8936613890b73368",
        "IPY_MODEL_96c1d5cacca34aeba4d65e6a889dc817"
       ],
       "layout": "IPY_MODEL_16ed4822b99140d2ad7871e48b186cfc"
      }
     },
     "679736cdd4d54ea2b86378f2cf6cd20b": {
      "model_module": "@jupyter-widgets/controls",
      "model_module_version": "1.5.0",
      "model_name": "HBoxModel",
      "state": {
       "_dom_classes": [],
       "_model_module": "@jupyter-widgets/controls",
       "_model_module_version": "1.5.0",
       "_model_name": "HBoxModel",
       "_view_count": null,
       "_view_module": "@jupyter-widgets/controls",
       "_view_module_version": "1.5.0",
       "_view_name": "HBoxView",
       "box_style": "",
       "children": [
        "IPY_MODEL_2e699467f8d447a9b0e48d8caa12a11d",
        "IPY_MODEL_2bab5c1aef1a44a6b19df9f6bdd3e669",
        "IPY_MODEL_a0834d2c2fd54eeeb8e866a33d09f53d"
       ],
       "layout": "IPY_MODEL_9063f86c707e41a28d05d0892c9347f7"
      }
     },
     "6e42523c861945f095f22b334bbc6aa8": {
      "model_module": "@jupyter-widgets/controls",
      "model_module_version": "1.5.0",
      "model_name": "DescriptionStyleModel",
      "state": {
       "_model_module": "@jupyter-widgets/controls",
       "_model_module_version": "1.5.0",
       "_model_name": "DescriptionStyleModel",
       "_view_count": null,
       "_view_module": "@jupyter-widgets/base",
       "_view_module_version": "1.2.0",
       "_view_name": "StyleView",
       "description_width": ""
      }
     },
     "731aedff56084e9ba62efb95a40ba915": {
      "model_module": "@jupyter-widgets/controls",
      "model_module_version": "1.5.0",
      "model_name": "DescriptionStyleModel",
      "state": {
       "_model_module": "@jupyter-widgets/controls",
       "_model_module_version": "1.5.0",
       "_model_name": "DescriptionStyleModel",
       "_view_count": null,
       "_view_module": "@jupyter-widgets/base",
       "_view_module_version": "1.2.0",
       "_view_name": "StyleView",
       "description_width": ""
      }
     },
     "74b7b763205243a2835ea8bb18df6a93": {
      "model_module": "@jupyter-widgets/base",
      "model_module_version": "1.2.0",
      "model_name": "LayoutModel",
      "state": {
       "_model_module": "@jupyter-widgets/base",
       "_model_module_version": "1.2.0",
       "_model_name": "LayoutModel",
       "_view_count": null,
       "_view_module": "@jupyter-widgets/base",
       "_view_module_version": "1.2.0",
       "_view_name": "LayoutView",
       "align_content": null,
       "align_items": null,
       "align_self": null,
       "border": null,
       "bottom": null,
       "display": null,
       "flex": null,
       "flex_flow": null,
       "grid_area": null,
       "grid_auto_columns": null,
       "grid_auto_flow": null,
       "grid_auto_rows": null,
       "grid_column": null,
       "grid_gap": null,
       "grid_row": null,
       "grid_template_areas": null,
       "grid_template_columns": null,
       "grid_template_rows": null,
       "height": null,
       "justify_content": null,
       "justify_items": null,
       "left": null,
       "margin": null,
       "max_height": null,
       "max_width": null,
       "min_height": null,
       "min_width": null,
       "object_fit": null,
       "object_position": null,
       "order": null,
       "overflow": null,
       "overflow_x": null,
       "overflow_y": null,
       "padding": null,
       "right": null,
       "top": null,
       "visibility": null,
       "width": null
      }
     },
     "75fa6732e569403f8fb78459941496e0": {
      "model_module": "@jupyter-widgets/base",
      "model_module_version": "1.2.0",
      "model_name": "LayoutModel",
      "state": {
       "_model_module": "@jupyter-widgets/base",
       "_model_module_version": "1.2.0",
       "_model_name": "LayoutModel",
       "_view_count": null,
       "_view_module": "@jupyter-widgets/base",
       "_view_module_version": "1.2.0",
       "_view_name": "LayoutView",
       "align_content": null,
       "align_items": null,
       "align_self": null,
       "border": null,
       "bottom": null,
       "display": null,
       "flex": null,
       "flex_flow": null,
       "grid_area": null,
       "grid_auto_columns": null,
       "grid_auto_flow": null,
       "grid_auto_rows": null,
       "grid_column": null,
       "grid_gap": null,
       "grid_row": null,
       "grid_template_areas": null,
       "grid_template_columns": null,
       "grid_template_rows": null,
       "height": null,
       "justify_content": null,
       "justify_items": null,
       "left": null,
       "margin": null,
       "max_height": null,
       "max_width": null,
       "min_height": null,
       "min_width": null,
       "object_fit": null,
       "object_position": null,
       "order": null,
       "overflow": null,
       "overflow_x": null,
       "overflow_y": null,
       "padding": null,
       "right": null,
       "top": null,
       "visibility": null,
       "width": null
      }
     },
     "76666e051bba4057a4acdf6a5ceebfd4": {
      "model_module": "@jupyter-widgets/controls",
      "model_module_version": "1.5.0",
      "model_name": "DescriptionStyleModel",
      "state": {
       "_model_module": "@jupyter-widgets/controls",
       "_model_module_version": "1.5.0",
       "_model_name": "DescriptionStyleModel",
       "_view_count": null,
       "_view_module": "@jupyter-widgets/base",
       "_view_module_version": "1.2.0",
       "_view_name": "StyleView",
       "description_width": ""
      }
     },
     "7dc4fcc536164aefbe1d3039e0a12bfd": {
      "model_module": "@jupyter-widgets/base",
      "model_module_version": "1.2.0",
      "model_name": "LayoutModel",
      "state": {
       "_model_module": "@jupyter-widgets/base",
       "_model_module_version": "1.2.0",
       "_model_name": "LayoutModel",
       "_view_count": null,
       "_view_module": "@jupyter-widgets/base",
       "_view_module_version": "1.2.0",
       "_view_name": "LayoutView",
       "align_content": null,
       "align_items": null,
       "align_self": null,
       "border": null,
       "bottom": null,
       "display": null,
       "flex": null,
       "flex_flow": null,
       "grid_area": null,
       "grid_auto_columns": null,
       "grid_auto_flow": null,
       "grid_auto_rows": null,
       "grid_column": null,
       "grid_gap": null,
       "grid_row": null,
       "grid_template_areas": null,
       "grid_template_columns": null,
       "grid_template_rows": null,
       "height": null,
       "justify_content": null,
       "justify_items": null,
       "left": null,
       "margin": null,
       "max_height": null,
       "max_width": null,
       "min_height": null,
       "min_width": null,
       "object_fit": null,
       "object_position": null,
       "order": null,
       "overflow": null,
       "overflow_x": null,
       "overflow_y": null,
       "padding": null,
       "right": null,
       "top": null,
       "visibility": null,
       "width": null
      }
     },
     "82a3d66dd2934d3e9a7ed78704e7707f": {
      "model_module": "@jupyter-widgets/base",
      "model_module_version": "1.2.0",
      "model_name": "LayoutModel",
      "state": {
       "_model_module": "@jupyter-widgets/base",
       "_model_module_version": "1.2.0",
       "_model_name": "LayoutModel",
       "_view_count": null,
       "_view_module": "@jupyter-widgets/base",
       "_view_module_version": "1.2.0",
       "_view_name": "LayoutView",
       "align_content": null,
       "align_items": null,
       "align_self": null,
       "border": null,
       "bottom": null,
       "display": null,
       "flex": null,
       "flex_flow": null,
       "grid_area": null,
       "grid_auto_columns": null,
       "grid_auto_flow": null,
       "grid_auto_rows": null,
       "grid_column": null,
       "grid_gap": null,
       "grid_row": null,
       "grid_template_areas": null,
       "grid_template_columns": null,
       "grid_template_rows": null,
       "height": null,
       "justify_content": null,
       "justify_items": null,
       "left": null,
       "margin": null,
       "max_height": null,
       "max_width": null,
       "min_height": null,
       "min_width": null,
       "object_fit": null,
       "object_position": null,
       "order": null,
       "overflow": null,
       "overflow_x": null,
       "overflow_y": null,
       "padding": null,
       "right": null,
       "top": null,
       "visibility": null,
       "width": null
      }
     },
     "8ce9285ea24a4faa986fc02f0278dc44": {
      "model_module": "@jupyter-widgets/base",
      "model_module_version": "1.2.0",
      "model_name": "LayoutModel",
      "state": {
       "_model_module": "@jupyter-widgets/base",
       "_model_module_version": "1.2.0",
       "_model_name": "LayoutModel",
       "_view_count": null,
       "_view_module": "@jupyter-widgets/base",
       "_view_module_version": "1.2.0",
       "_view_name": "LayoutView",
       "align_content": null,
       "align_items": null,
       "align_self": null,
       "border": null,
       "bottom": null,
       "display": null,
       "flex": null,
       "flex_flow": null,
       "grid_area": null,
       "grid_auto_columns": null,
       "grid_auto_flow": null,
       "grid_auto_rows": null,
       "grid_column": null,
       "grid_gap": null,
       "grid_row": null,
       "grid_template_areas": null,
       "grid_template_columns": null,
       "grid_template_rows": null,
       "height": null,
       "justify_content": null,
       "justify_items": null,
       "left": null,
       "margin": null,
       "max_height": null,
       "max_width": null,
       "min_height": null,
       "min_width": null,
       "object_fit": null,
       "object_position": null,
       "order": null,
       "overflow": null,
       "overflow_x": null,
       "overflow_y": null,
       "padding": null,
       "right": null,
       "top": null,
       "visibility": null,
       "width": null
      }
     },
     "9063f86c707e41a28d05d0892c9347f7": {
      "model_module": "@jupyter-widgets/base",
      "model_module_version": "1.2.0",
      "model_name": "LayoutModel",
      "state": {
       "_model_module": "@jupyter-widgets/base",
       "_model_module_version": "1.2.0",
       "_model_name": "LayoutModel",
       "_view_count": null,
       "_view_module": "@jupyter-widgets/base",
       "_view_module_version": "1.2.0",
       "_view_name": "LayoutView",
       "align_content": null,
       "align_items": null,
       "align_self": null,
       "border": null,
       "bottom": null,
       "display": null,
       "flex": null,
       "flex_flow": null,
       "grid_area": null,
       "grid_auto_columns": null,
       "grid_auto_flow": null,
       "grid_auto_rows": null,
       "grid_column": null,
       "grid_gap": null,
       "grid_row": null,
       "grid_template_areas": null,
       "grid_template_columns": null,
       "grid_template_rows": null,
       "height": null,
       "justify_content": null,
       "justify_items": null,
       "left": null,
       "margin": null,
       "max_height": null,
       "max_width": null,
       "min_height": null,
       "min_width": null,
       "object_fit": null,
       "object_position": null,
       "order": null,
       "overflow": null,
       "overflow_x": null,
       "overflow_y": null,
       "padding": null,
       "right": null,
       "top": null,
       "visibility": null,
       "width": null
      }
     },
     "9124a789476149eb9ac3da0b662f7adf": {
      "model_module": "@jupyter-widgets/controls",
      "model_module_version": "1.5.0",
      "model_name": "ProgressStyleModel",
      "state": {
       "_model_module": "@jupyter-widgets/controls",
       "_model_module_version": "1.5.0",
       "_model_name": "ProgressStyleModel",
       "_view_count": null,
       "_view_module": "@jupyter-widgets/base",
       "_view_module_version": "1.2.0",
       "_view_name": "StyleView",
       "bar_color": null,
       "description_width": ""
      }
     },
     "93bb41df79d4444b854518cf0ff4c664": {
      "model_module": "@jupyter-widgets/controls",
      "model_module_version": "1.5.0",
      "model_name": "ProgressStyleModel",
      "state": {
       "_model_module": "@jupyter-widgets/controls",
       "_model_module_version": "1.5.0",
       "_model_name": "ProgressStyleModel",
       "_view_count": null,
       "_view_module": "@jupyter-widgets/base",
       "_view_module_version": "1.2.0",
       "_view_name": "StyleView",
       "bar_color": null,
       "description_width": ""
      }
     },
     "96c1d5cacca34aeba4d65e6a889dc817": {
      "model_module": "@jupyter-widgets/controls",
      "model_module_version": "1.5.0",
      "model_name": "HTMLModel",
      "state": {
       "_dom_classes": [],
       "_model_module": "@jupyter-widgets/controls",
       "_model_module_version": "1.5.0",
       "_model_name": "HTMLModel",
       "_view_count": null,
       "_view_module": "@jupyter-widgets/controls",
       "_view_module_version": "1.5.0",
       "_view_name": "HTMLView",
       "description": "",
       "description_tooltip": null,
       "layout": "IPY_MODEL_74b7b763205243a2835ea8bb18df6a93",
       "placeholder": "​",
       "style": "IPY_MODEL_731aedff56084e9ba62efb95a40ba915",
       "value": " 49.0/49.0 [00:00&lt;00:00, 3.97kB/s]"
      }
     },
     "973b9cf9210f4365bcfd5d0a75189c33": {
      "model_module": "@jupyter-widgets/controls",
      "model_module_version": "1.5.0",
      "model_name": "HTMLModel",
      "state": {
       "_dom_classes": [],
       "_model_module": "@jupyter-widgets/controls",
       "_model_module_version": "1.5.0",
       "_model_name": "HTMLModel",
       "_view_count": null,
       "_view_module": "@jupyter-widgets/controls",
       "_view_module_version": "1.5.0",
       "_view_name": "HTMLView",
       "description": "",
       "description_tooltip": null,
       "layout": "IPY_MODEL_31f9c71ec5544789badef539fd629801",
       "placeholder": "​",
       "style": "IPY_MODEL_087183bc5dcf4ee58d2891d130dcd865",
       "value": " 436k/436k [00:00&lt;00:00, 7.06MB/s]"
      }
     },
     "a0834d2c2fd54eeeb8e866a33d09f53d": {
      "model_module": "@jupyter-widgets/controls",
      "model_module_version": "1.5.0",
      "model_name": "HTMLModel",
      "state": {
       "_dom_classes": [],
       "_model_module": "@jupyter-widgets/controls",
       "_model_module_version": "1.5.0",
       "_model_name": "HTMLModel",
       "_view_count": null,
       "_view_module": "@jupyter-widgets/controls",
       "_view_module_version": "1.5.0",
       "_view_name": "HTMLView",
       "description": "",
       "description_tooltip": null,
       "layout": "IPY_MODEL_82a3d66dd2934d3e9a7ed78704e7707f",
       "placeholder": "​",
       "style": "IPY_MODEL_2d33961f8327401fba1cef49c40f0c24",
       "value": " 570/570 [00:00&lt;00:00, 48.5kB/s]"
      }
     },
     "a457f803f217441aad8f0f16649c399e": {
      "model_module": "@jupyter-widgets/controls",
      "model_module_version": "1.5.0",
      "model_name": "DescriptionStyleModel",
      "state": {
       "_model_module": "@jupyter-widgets/controls",
       "_model_module_version": "1.5.0",
       "_model_name": "DescriptionStyleModel",
       "_view_count": null,
       "_view_module": "@jupyter-widgets/base",
       "_view_module_version": "1.2.0",
       "_view_name": "StyleView",
       "description_width": ""
      }
     },
     "b20d3433ac9c47c39a1598e945387d81": {
      "model_module": "@jupyter-widgets/controls",
      "model_module_version": "1.5.0",
      "model_name": "HBoxModel",
      "state": {
       "_dom_classes": [],
       "_model_module": "@jupyter-widgets/controls",
       "_model_module_version": "1.5.0",
       "_model_name": "HBoxModel",
       "_view_count": null,
       "_view_module": "@jupyter-widgets/controls",
       "_view_module_version": "1.5.0",
       "_view_name": "HBoxView",
       "box_style": "",
       "children": [
        "IPY_MODEL_2c64437ea1b646bdb3867f3e1ad04ae9",
        "IPY_MODEL_fabcdb0d6a234b9187731236c91d8359",
        "IPY_MODEL_2c0da2d29ea847f9a20bb90b94bbd38e"
       ],
       "layout": "IPY_MODEL_12196596ffcc4865ba64a48b39a01a63"
      }
     },
     "b314e13d894947eeb5f5c04665b6db90": {
      "model_module": "@jupyter-widgets/base",
      "model_module_version": "1.2.0",
      "model_name": "LayoutModel",
      "state": {
       "_model_module": "@jupyter-widgets/base",
       "_model_module_version": "1.2.0",
       "_model_name": "LayoutModel",
       "_view_count": null,
       "_view_module": "@jupyter-widgets/base",
       "_view_module_version": "1.2.0",
       "_view_name": "LayoutView",
       "align_content": null,
       "align_items": null,
       "align_self": null,
       "border": null,
       "bottom": null,
       "display": null,
       "flex": null,
       "flex_flow": null,
       "grid_area": null,
       "grid_auto_columns": null,
       "grid_auto_flow": null,
       "grid_auto_rows": null,
       "grid_column": null,
       "grid_gap": null,
       "grid_row": null,
       "grid_template_areas": null,
       "grid_template_columns": null,
       "grid_template_rows": null,
       "height": null,
       "justify_content": null,
       "justify_items": null,
       "left": null,
       "margin": null,
       "max_height": null,
       "max_width": null,
       "min_height": null,
       "min_width": null,
       "object_fit": null,
       "object_position": null,
       "order": null,
       "overflow": null,
       "overflow_x": null,
       "overflow_y": null,
       "padding": null,
       "right": null,
       "top": null,
       "visibility": null,
       "width": null
      }
     },
     "b8dc68bb83414b1e9f78f0c95156405c": {
      "model_module": "@jupyter-widgets/base",
      "model_module_version": "1.2.0",
      "model_name": "LayoutModel",
      "state": {
       "_model_module": "@jupyter-widgets/base",
       "_model_module_version": "1.2.0",
       "_model_name": "LayoutModel",
       "_view_count": null,
       "_view_module": "@jupyter-widgets/base",
       "_view_module_version": "1.2.0",
       "_view_name": "LayoutView",
       "align_content": null,
       "align_items": null,
       "align_self": null,
       "border": null,
       "bottom": null,
       "display": null,
       "flex": null,
       "flex_flow": null,
       "grid_area": null,
       "grid_auto_columns": null,
       "grid_auto_flow": null,
       "grid_auto_rows": null,
       "grid_column": null,
       "grid_gap": null,
       "grid_row": null,
       "grid_template_areas": null,
       "grid_template_columns": null,
       "grid_template_rows": null,
       "height": null,
       "justify_content": null,
       "justify_items": null,
       "left": null,
       "margin": null,
       "max_height": null,
       "max_width": null,
       "min_height": null,
       "min_width": null,
       "object_fit": null,
       "object_position": null,
       "order": null,
       "overflow": null,
       "overflow_x": null,
       "overflow_y": null,
       "padding": null,
       "right": null,
       "top": null,
       "visibility": null,
       "width": null
      }
     },
     "c6eca57a43f7418b8936613890b73368": {
      "model_module": "@jupyter-widgets/controls",
      "model_module_version": "1.5.0",
      "model_name": "FloatProgressModel",
      "state": {
       "_dom_classes": [],
       "_model_module": "@jupyter-widgets/controls",
       "_model_module_version": "1.5.0",
       "_model_name": "FloatProgressModel",
       "_view_count": null,
       "_view_module": "@jupyter-widgets/controls",
       "_view_module_version": "1.5.0",
       "_view_name": "ProgressView",
       "bar_style": "success",
       "description": "",
       "description_tooltip": null,
       "layout": "IPY_MODEL_385d74862e7f461083859e4fd91e3ba9",
       "max": 49.0,
       "min": 0.0,
       "orientation": "horizontal",
       "style": "IPY_MODEL_93bb41df79d4444b854518cf0ff4c664",
       "value": 49.0
      }
     },
     "ceadc4a02de949948feefee8d4a369ce": {
      "model_module": "@jupyter-widgets/controls",
      "model_module_version": "1.5.0",
      "model_name": "FloatProgressModel",
      "state": {
       "_dom_classes": [],
       "_model_module": "@jupyter-widgets/controls",
       "_model_module_version": "1.5.0",
       "_model_name": "FloatProgressModel",
       "_view_count": null,
       "_view_module": "@jupyter-widgets/controls",
       "_view_module_version": "1.5.0",
       "_view_name": "ProgressView",
       "bar_style": "success",
       "description": "",
       "description_tooltip": null,
       "layout": "IPY_MODEL_f5cd35cb67f247f2b5c423719e741add",
       "max": 435797.0,
       "min": 0.0,
       "orientation": "horizontal",
       "style": "IPY_MODEL_9124a789476149eb9ac3da0b662f7adf",
       "value": 435797.0
      }
     },
     "d23a7a5bf3d54730bcb6b3a4b1c113a2": {
      "model_module": "@jupyter-widgets/controls",
      "model_module_version": "1.5.0",
      "model_name": "ProgressStyleModel",
      "state": {
       "_model_module": "@jupyter-widgets/controls",
       "_model_module_version": "1.5.0",
       "_model_name": "ProgressStyleModel",
       "_view_count": null,
       "_view_module": "@jupyter-widgets/base",
       "_view_module_version": "1.2.0",
       "_view_name": "StyleView",
       "bar_color": null,
       "description_width": ""
      }
     },
     "de30ae07d5614f1b9dbbaa6715afb221": {
      "model_module": "@jupyter-widgets/controls",
      "model_module_version": "1.5.0",
      "model_name": "DescriptionStyleModel",
      "state": {
       "_model_module": "@jupyter-widgets/controls",
       "_model_module_version": "1.5.0",
       "_model_name": "DescriptionStyleModel",
       "_view_count": null,
       "_view_module": "@jupyter-widgets/base",
       "_view_module_version": "1.2.0",
       "_view_name": "StyleView",
       "description_width": ""
      }
     },
     "df1a1dc7c26342679ded3082a0ad4ccc": {
      "model_module": "@jupyter-widgets/base",
      "model_module_version": "1.2.0",
      "model_name": "LayoutModel",
      "state": {
       "_model_module": "@jupyter-widgets/base",
       "_model_module_version": "1.2.0",
       "_model_name": "LayoutModel",
       "_view_count": null,
       "_view_module": "@jupyter-widgets/base",
       "_view_module_version": "1.2.0",
       "_view_name": "LayoutView",
       "align_content": null,
       "align_items": null,
       "align_self": null,
       "border": null,
       "bottom": null,
       "display": null,
       "flex": null,
       "flex_flow": null,
       "grid_area": null,
       "grid_auto_columns": null,
       "grid_auto_flow": null,
       "grid_auto_rows": null,
       "grid_column": null,
       "grid_gap": null,
       "grid_row": null,
       "grid_template_areas": null,
       "grid_template_columns": null,
       "grid_template_rows": null,
       "height": null,
       "justify_content": null,
       "justify_items": null,
       "left": null,
       "margin": null,
       "max_height": null,
       "max_width": null,
       "min_height": null,
       "min_width": null,
       "object_fit": null,
       "object_position": null,
       "order": null,
       "overflow": null,
       "overflow_x": null,
       "overflow_y": null,
       "padding": null,
       "right": null,
       "top": null,
       "visibility": null,
       "width": null
      }
     },
     "e9dce00e273d4d9799b6afc446a60567": {
      "model_module": "@jupyter-widgets/controls",
      "model_module_version": "1.5.0",
      "model_name": "HBoxModel",
      "state": {
       "_dom_classes": [],
       "_model_module": "@jupyter-widgets/controls",
       "_model_module_version": "1.5.0",
       "_model_name": "HBoxModel",
       "_view_count": null,
       "_view_module": "@jupyter-widgets/controls",
       "_view_module_version": "1.5.0",
       "_view_name": "HBoxView",
       "box_style": "",
       "children": [
        "IPY_MODEL_58a03ec3735f406c8cce301ed37db07c",
        "IPY_MODEL_0dfa183c796645c69e770fbe5cb7b094",
        "IPY_MODEL_ef98f5d52c294cbc9dd05ae9e7317648"
       ],
       "layout": "IPY_MODEL_b8dc68bb83414b1e9f78f0c95156405c"
      }
     },
     "ef98f5d52c294cbc9dd05ae9e7317648": {
      "model_module": "@jupyter-widgets/controls",
      "model_module_version": "1.5.0",
      "model_name": "HTMLModel",
      "state": {
       "_dom_classes": [],
       "_model_module": "@jupyter-widgets/controls",
       "_model_module_version": "1.5.0",
       "_model_name": "HTMLModel",
       "_view_count": null,
       "_view_module": "@jupyter-widgets/controls",
       "_view_module_version": "1.5.0",
       "_view_name": "HTMLView",
       "description": "",
       "description_tooltip": null,
       "layout": "IPY_MODEL_4245f11346654234a19528aab9edb1cd",
       "placeholder": "​",
       "style": "IPY_MODEL_76666e051bba4057a4acdf6a5ceebfd4",
       "value": " 436M/436M [00:01&lt;00:00, 233MB/s]"
      }
     },
     "f5cd35cb67f247f2b5c423719e741add": {
      "model_module": "@jupyter-widgets/base",
      "model_module_version": "1.2.0",
      "model_name": "LayoutModel",
      "state": {
       "_model_module": "@jupyter-widgets/base",
       "_model_module_version": "1.2.0",
       "_model_name": "LayoutModel",
       "_view_count": null,
       "_view_module": "@jupyter-widgets/base",
       "_view_module_version": "1.2.0",
       "_view_name": "LayoutView",
       "align_content": null,
       "align_items": null,
       "align_self": null,
       "border": null,
       "bottom": null,
       "display": null,
       "flex": null,
       "flex_flow": null,
       "grid_area": null,
       "grid_auto_columns": null,
       "grid_auto_flow": null,
       "grid_auto_rows": null,
       "grid_column": null,
       "grid_gap": null,
       "grid_row": null,
       "grid_template_areas": null,
       "grid_template_columns": null,
       "grid_template_rows": null,
       "height": null,
       "justify_content": null,
       "justify_items": null,
       "left": null,
       "margin": null,
       "max_height": null,
       "max_width": null,
       "min_height": null,
       "min_width": null,
       "object_fit": null,
       "object_position": null,
       "order": null,
       "overflow": null,
       "overflow_x": null,
       "overflow_y": null,
       "padding": null,
       "right": null,
       "top": null,
       "visibility": null,
       "width": null
      }
     },
     "f6f5c1be366f4414b30f0af7e74b895a": {
      "model_module": "@jupyter-widgets/controls",
      "model_module_version": "1.5.0",
      "model_name": "ProgressStyleModel",
      "state": {
       "_model_module": "@jupyter-widgets/controls",
       "_model_module_version": "1.5.0",
       "_model_name": "ProgressStyleModel",
       "_view_count": null,
       "_view_module": "@jupyter-widgets/base",
       "_view_module_version": "1.2.0",
       "_view_name": "StyleView",
       "bar_color": null,
       "description_width": ""
      }
     },
     "fabcdb0d6a234b9187731236c91d8359": {
      "model_module": "@jupyter-widgets/controls",
      "model_module_version": "1.5.0",
      "model_name": "FloatProgressModel",
      "state": {
       "_dom_classes": [],
       "_model_module": "@jupyter-widgets/controls",
       "_model_module_version": "1.5.0",
       "_model_name": "FloatProgressModel",
       "_view_count": null,
       "_view_module": "@jupyter-widgets/controls",
       "_view_module_version": "1.5.0",
       "_view_name": "ProgressView",
       "bar_style": "success",
       "description": "",
       "description_tooltip": null,
       "layout": "IPY_MODEL_ff9e00c9408243c5ba4afc9bc8016b4b",
       "max": 213450.0,
       "min": 0.0,
       "orientation": "horizontal",
       "style": "IPY_MODEL_4182812da71745e19f8c70a036ab477d",
       "value": 213450.0
      }
     },
     "ff9e00c9408243c5ba4afc9bc8016b4b": {
      "model_module": "@jupyter-widgets/base",
      "model_module_version": "1.2.0",
      "model_name": "LayoutModel",
      "state": {
       "_model_module": "@jupyter-widgets/base",
       "_model_module_version": "1.2.0",
       "_model_name": "LayoutModel",
       "_view_count": null,
       "_view_module": "@jupyter-widgets/base",
       "_view_module_version": "1.2.0",
       "_view_name": "LayoutView",
       "align_content": null,
       "align_items": null,
       "align_self": null,
       "border": null,
       "bottom": null,
       "display": null,
       "flex": null,
       "flex_flow": null,
       "grid_area": null,
       "grid_auto_columns": null,
       "grid_auto_flow": null,
       "grid_auto_rows": null,
       "grid_column": null,
       "grid_gap": null,
       "grid_row": null,
       "grid_template_areas": null,
       "grid_template_columns": null,
       "grid_template_rows": null,
       "height": null,
       "justify_content": null,
       "justify_items": null,
       "left": null,
       "margin": null,
       "max_height": null,
       "max_width": null,
       "min_height": null,
       "min_width": null,
       "object_fit": null,
       "object_position": null,
       "order": null,
       "overflow": null,
       "overflow_x": null,
       "overflow_y": null,
       "padding": null,
       "right": null,
       "top": null,
       "visibility": null,
       "width": null
      }
     }
    },
    "version_major": 2,
    "version_minor": 0
   }
  }
 },
 "nbformat": 4,
 "nbformat_minor": 5
}
